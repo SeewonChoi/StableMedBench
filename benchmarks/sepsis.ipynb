{
 "cells": [
  {
   "cell_type": "code",
   "execution_count": 1,
   "id": "a072fe68",
   "metadata": {},
   "outputs": [],
   "source": [
    "import pandas as pd\n",
    "import numpy as np\n",
    "import os\n",
    "import matplotlib.pyplot as plt"
   ]
  },
  {
   "cell_type": "code",
   "execution_count": null,
   "id": "2e54e7a3",
   "metadata": {},
   "outputs": [],
   "source": [
    "DATA_DIR = \"data\""
   ]
  },
  {
   "cell_type": "code",
   "execution_count": 3,
   "id": "9f3f812c",
   "metadata": {},
   "outputs": [],
   "source": [
    "def try_parse_float(x):\n",
    "    if isinstance(x, str):\n",
    "        try:\n",
    "            x = x.lstrip('<>=').strip()\n",
    "            x = x.replace(',', ':')\n",
    "            if ':' in x:\n",
    "                try:\n",
    "                    num, denom = x.split(':')\n",
    "                    return float(num) / float(denom)\n",
    "                except (ValueError, ZeroDivisionError):\n",
    "                    return x\n",
    "            return float(x)\n",
    "        except ValueError:\n",
    "            return x\n",
    "    return x"
   ]
  },
  {
   "cell_type": "markdown",
   "id": "94e56133",
   "metadata": {},
   "source": [
    "Inclusion Criteria"
   ]
  },
  {
   "cell_type": "code",
   "execution_count": 4,
   "id": "385c7902",
   "metadata": {},
   "outputs": [],
   "source": [
    "# < 96.8, > 100.4 within 24 hours of admission"
   ]
  },
  {
   "cell_type": "code",
   "execution_count": 5,
   "id": "a83f87b1",
   "metadata": {},
   "outputs": [],
   "source": [
    "triage_df = pd.read_csv(os.path.join(DATA_DIR, 'visits.csv'), usecols=['CSN', 'Triage_Temp', 'Arrival_time'])\n",
    "triage_df['Arrival_time'] = pd.to_datetime(triage_df['Arrival_time'].apply(lambda x: str(int(x[:4]) - 500) + x[4:]))"
   ]
  },
  {
   "cell_type": "code",
   "execution_count": 6,
   "id": "38bb9ae1",
   "metadata": {},
   "outputs": [],
   "source": [
    "temp_df = triage_df[(triage_df['Triage_Temp'] > 100.4) | (triage_df['Triage_Temp'] < 96.8)]\n",
    "temp_df = temp_df.rename(columns={'Arrival_time': 'Temp_time'})\n",
    "temp_df = temp_df[['CSN', 'Temp_time']]"
   ]
  },
  {
   "cell_type": "code",
   "execution_count": 7,
   "id": "a61d9c06",
   "metadata": {},
   "outputs": [],
   "source": [
    "numerics_df = pd.read_csv(os.path.join(DATA_DIR, 'numerics.csv'), usecols=['CSN', 'Measure', 'Value', 'Time'])\n",
    "numerics_df = numerics_df[numerics_df['Measure'] == 'Temp']\n",
    "numerics_df = numerics_df[(numerics_df['Value'] > 100.4) | (numerics_df['Value'] < 96.8)]\n",
    "numerics_df = numerics_df.groupby('CSN').min()"
   ]
  },
  {
   "cell_type": "code",
   "execution_count": 8,
   "id": "5d2c370c",
   "metadata": {},
   "outputs": [],
   "source": [
    "triage_df = triage_df[['CSN', 'Arrival_time']]\n",
    "numerics_df = numerics_df.merge(triage_df, on='CSN', how='left')\n",
    "numerics_df['Time'] = pd.to_datetime(numerics_df['Time'].apply(lambda x: str(int(x[:4]) - 500) + x[4:]))\n",
    "numerics_df = numerics_df[numerics_df['Time'] < numerics_df['Arrival_time'] + pd.Timedelta(hours=24)]\n",
    "numerics_df = numerics_df[['CSN', 'Time']]\n",
    "numerics_df = numerics_df.rename(columns={'Time': 'Temp_time'})"
   ]
  },
  {
   "cell_type": "code",
   "execution_count": 9,
   "id": "6f832079",
   "metadata": {},
   "outputs": [],
   "source": [
    "temp_df = pd.concat([temp_df, numerics_df])\n",
    "temp_df = temp_df.drop_duplicates()"
   ]
  },
  {
   "cell_type": "code",
   "execution_count": null,
   "id": "7acfcdab",
   "metadata": {},
   "outputs": [],
   "source": [
    "# Either within 12 hours \n",
    "# > 12000 or <4000 per microL\n",
    "# HR > 90\n",
    "# RR > 20"
   ]
  },
  {
   "cell_type": "code",
   "execution_count": 10,
   "id": "f4b84ed6",
   "metadata": {},
   "outputs": [],
   "source": [
    "labs_df = pd.read_csv(os.path.join(DATA_DIR, 'labs.csv'), usecols=['CSN', 'Order_time', 'Component_name', 'Component_value'])\n",
    "labs_df = labs_df[labs_df['CSN'].isin(temp_df['CSN'])]\n",
    "labs_df = labs_df[(labs_df['Component_name'] == 'WBC COUNT') | (labs_df['Component_name'] == 'WHITE BLOOD CELLS (WBC)')]\n",
    "labs_df['Component_value'] = labs_df['Component_value'].apply(try_parse_float)\n",
    "labs_df = labs_df[(labs_df['Component_name'] == 'WBC COUNT') & (labs_df['Component_value'] > 12000)\n",
    "                | (labs_df['Component_name'] == 'WBC COUNT') & (labs_df['Component_value'] < 4000)\n",
    "                | (labs_df['Component_name'] == 'WHITE BLOOD CELLS (WBC)') & (labs_df['Component_value'] > 12)\n",
    "                | (labs_df['Component_name'] == 'WHITE BLOOD CELLS (WBC)') & (labs_df['Component_value'] < 4)]\n",
    "labs_df = labs_df[['CSN', 'Order_time']]\n",
    "labs_df = labs_df.rename(columns={'Order_time': 'Vital_time'})"
   ]
  },
  {
   "cell_type": "code",
   "execution_count": 11,
   "id": "9fb0e0b6",
   "metadata": {},
   "outputs": [],
   "source": [
    "visits_df = pd.read_csv(os.path.join(DATA_DIR, 'visits.csv'), usecols=['CSN', 'Triage_HR', 'Triage_RR', 'Arrival_time'])\n",
    "visits_df = visits_df[visits_df['CSN'].isin(temp_df['CSN'])]\n",
    "visits_df = visits_df[(visits_df['Triage_HR'] > 90) |(visits_df['Triage_RR'] > 20)]\n",
    "visits_df = visits_df[['CSN', 'Arrival_time']]\n",
    "visits_df = visits_df.rename(columns={'Arrival_time': 'Vital_time'})"
   ]
  },
  {
   "cell_type": "code",
   "execution_count": 12,
   "id": "1085f9b0",
   "metadata": {},
   "outputs": [],
   "source": [
    "numerics_df = pd.read_csv(os.path.join(DATA_DIR, 'numerics.csv'), usecols=['CSN', 'Measure', 'Value', 'Time'])\n",
    "numerics_df = numerics_df[numerics_df['CSN'].isin(temp_df['CSN'])]\n",
    "numerics_df = numerics_df[((numerics_df['Measure'] == 'HR') & numerics_df['Value'] > 90)\n",
    "                         |((numerics_df['Measure'] == 'RR') & numerics_df['Value'] > 20)]\n",
    "numerics_df = numerics_df[['CSN', 'Time']]\n",
    "numerics_df = numerics_df.rename(columns={'Time': 'Vital_time'})"
   ]
  },
  {
   "cell_type": "code",
   "execution_count": 13,
   "id": "d0c9a322",
   "metadata": {},
   "outputs": [],
   "source": [
    "vitals_df = pd.concat([labs_df, visits_df, numerics_df])\n",
    "vitals_df['Vital_time'] = pd.to_datetime(vitals_df['Vital_time'].apply(lambda x: str(int(x[:4]) - 500) + x[4:]))\n",
    "vitals_df = vitals_df.groupby('CSN').min()"
   ]
  },
  {
   "cell_type": "code",
   "execution_count": 14,
   "id": "8fb28f12",
   "metadata": {},
   "outputs": [],
   "source": [
    "vitals_df = vitals_df.merge(triage_df, on='CSN', how='left')\n",
    "vitals_df = vitals_df.merge(temp_df, on='CSN', how='inner')\n",
    "vitals_df = vitals_df[(vitals_df['Vital_time'] < vitals_df['Arrival_time'] + pd.Timedelta(hours=24))\n",
    "                     |((vitals_df['Vital_time'] - vitals_df['Temp_time']).abs() < pd.Timedelta(hours=12))]"
   ]
  },
  {
   "cell_type": "code",
   "execution_count": null,
   "id": "cf874a4f",
   "metadata": {},
   "outputs": [],
   "source": [
    "# No iv_antibiotics at or before first criteria"
   ]
  },
  {
   "cell_type": "code",
   "execution_count": 15,
   "id": "bae2472a",
   "metadata": {},
   "outputs": [],
   "source": [
    "ANTIBIOTICS = ['amikacin', 'ampicillin', 'sulbactam', 'azithromycin', 'aztreonam', 'cefamandole', 'cefazolin', 'cefepime', 'cefmetazole', 'cefonicid', 'cefoperazone', \n",
    "                 'cefotaxime', 'cefotetan', 'cefoxitin', 'ceftaroline', 'ceftazidime', 'ceftazidime', 'avibactam', 'ceftizoxime', 'ceftolozane', 'tazobactam', 'ceftriaxone', \n",
    "                 'cefuroxime', 'cephalothin', 'cephapirin', 'chloramphenicol', 'ciprofloxacin', 'clindamycin', 'cloxacillin', 'colistin', 'dalbavancin', 'daptomycin', 'doripenem', \n",
    "                 'doxycycline', 'ertapenem', 'gatifloxacin', 'gentamicin', 'imipenem', 'kanamycin', 'levofloxacin', 'lincomycin', 'linezolid', 'meropenem', 'methicillin', \n",
    "                 'metronidazole', 'mezlocillin', 'minocycline', 'moxifloxacin', 'nafcillin', 'oritavancin', 'oxacillin', 'penicillin', 'piperacillin', 'pileracillin', 'tazobactam', \n",
    "                 'polymyxin B', 'quinupristin', 'dalfopristin', 'streptomycin', 'tedizolid', 'telavancin', 'ticarcillin', 'ticarcillin', 'clavulanate', 'tigecycline', 'tobramycin', \n",
    "                 'trimethoprim', 'sulfamethoxazole', 'vancomycin', 'amoxicillin', 'clavulanate', 'amoxicillin', 'ampicillin', 'azithromycin', 'cefaclor', 'cefadroxil', 'cefdinir', \n",
    "                 'cefditoren', 'cefixime', 'cefpodoxime', 'cefprozil', 'ceftibuten', 'cefuroxime', 'cephalexin', 'cephradine', 'chloramphenicol', 'cinoxacin', 'ciprofloxacin', \n",
    "                 'clarithromycin', 'clindamycin', 'cloxacillin', 'dicloxacillin', 'doxycycline', 'fidaxomicin', 'fosfomycin', 'gatifloxacin', 'levofloxacin', 'lincomycin', \n",
    "                 'linezolid', 'metronidazole', 'minocycline', 'moxifloxacin', 'nitrofurantoin', 'norfloxacin', 'ofloxacin', 'penicillin', 'pivampicillin', 'rifampin', \n",
    "                 'sulfadiazine', 'sulfadiazine', 'trimethoprim', 'sulfamethoxazole', 'sulfisoxazole', 'tedizolid', 'telithromycin', 'tetracycline', 'trimethoprim', 'trimethoprim', \n",
    "                 'sulfamethoxazole', 'vancomycin', 'amphotericin B', 'anidulafungin', 'caspofungin', 'fluconazole', 'itraconazole', 'micafungin', 'posaconazole', 'voriconazole',\n",
    "                 'fluconazole', 'itraconazole', 'posaconazole', 'voriconazole', 'acyclovir', 'ganciclovir', 'cidofovir', 'foscarnet', 'peramivir', 'Oseltamivir']"
   ]
  },
  {
   "cell_type": "code",
   "execution_count": 16,
   "id": "7f7988a1",
   "metadata": {},
   "outputs": [],
   "source": [
    "orders_df = pd.read_csv(os.path.join(DATA_DIR, 'orders.csv'), usecols=['CSN', 'Order_time', 'Procedure_name'])\n",
    "orders_df['Order_time'] = pd.to_datetime(orders_df['Order_time'].apply(lambda x: str(int(x[:4]) - 500) + x[4:]))\n",
    "orders_df = orders_df[orders_df['CSN'].isin(vitals_df['CSN'])]\n",
    "orders_df = orders_df[orders_df['Procedure_name'].str.contains('|'.join(ANTIBIOTICS), na=False, case=False)]\n",
    "orders_df = orders_df[['CSN', 'Order_time']]\n",
    "orders_df = orders_df.groupby('CSN').min()"
   ]
  },
  {
   "cell_type": "code",
   "execution_count": 17,
   "id": "2b44018d",
   "metadata": {},
   "outputs": [],
   "source": [
    "cohort_df = orders_df.merge(vitals_df, on='CSN')\n",
    "cohort_df = cohort_df[cohort_df['Order_time'] > cohort_df['Vital_time']]\n",
    "cohort_df = cohort_df[['CSN', 'Arrival_time']]\n",
    "cohort_df = cohort_df.drop_duplicates()"
   ]
  },
  {
   "cell_type": "code",
   "execution_count": 46,
   "id": "c6c2d01e",
   "metadata": {},
   "outputs": [
    {
     "data": {
      "text/plain": [
       "15027"
      ]
     },
     "execution_count": 46,
     "metadata": {},
     "output_type": "execute_result"
    }
   ],
   "source": [
    "cohort_df['CSN'].nunique()"
   ]
  },
  {
   "cell_type": "markdown",
   "id": "3de6edd6",
   "metadata": {},
   "source": [
    "Suspicion of infection"
   ]
  },
  {
   "cell_type": "code",
   "execution_count": 19,
   "id": "87205658",
   "metadata": {},
   "outputs": [],
   "source": [
    "orders_df = pd.read_csv(os.path.join(DATA_DIR, 'orders.csv'), usecols=['CSN', 'Order_time', 'Procedure_name'])\n",
    "orders_df['Order_time'] = pd.to_datetime(orders_df['Order_time'].apply(lambda x: str(int(x[:4]) - 500) + x[4:]))"
   ]
  },
  {
   "cell_type": "code",
   "execution_count": 20,
   "id": "46add2bc",
   "metadata": {},
   "outputs": [],
   "source": [
    "orders_df = orders_df[orders_df['CSN'].isin(cohort_df['CSN'])]"
   ]
  },
  {
   "cell_type": "code",
   "execution_count": 21,
   "id": "cf124ae7",
   "metadata": {},
   "outputs": [],
   "source": [
    "# Blood culture order within first 48 hours\n",
    "blood_df = orders_df[(orders_df['Procedure_name'].str.contains(\"blood\", case=False, na=False))\n",
    "                    & (orders_df['Procedure_name'].str.contains(\"cult\", case=False, na=False))]\n",
    "blood_df = blood_df[['CSN', 'Order_time']]"
   ]
  },
  {
   "cell_type": "code",
   "execution_count": 22,
   "id": "cbff6df2",
   "metadata": {},
   "outputs": [],
   "source": [
    "blood_df = blood_df.groupby('CSN').min()\n",
    "blood_df = blood_df.merge(triage_df, on='CSN', how='left')\n",
    "blood_df = blood_df[blood_df['Order_time'] < blood_df['Arrival_time'] + pd.Timedelta(hours=48)]"
   ]
  },
  {
   "cell_type": "code",
   "execution_count": null,
   "id": "89d1f497",
   "metadata": {},
   "outputs": [],
   "source": [
    "# 4QAD within BC - at least 1 in IV, less than 1 day gap"
   ]
  },
  {
   "cell_type": "code",
   "execution_count": 23,
   "id": "f33ea098",
   "metadata": {},
   "outputs": [],
   "source": [
    "IV = ['amikacin', 'ampicillin', 'sulbactam', 'azithromycin', 'aztreonam', 'cefamandole', 'cefazolin', 'cefepime', 'cefmetazole', 'cefonicid', \n",
    "    'cefoperazone', 'cefotaxime', 'cefotetan', 'cefoxitin', 'ceftaroline', 'ceftazidime', 'ceftazidime', 'avibactam', 'ceftizoxime', 'ceftolozane', 'tazobactam', \n",
    "    'ceftriaxone', 'cefuroxime', 'cephalothin', 'cephapirin', 'chloramphenicol', 'ciprofloxacin', 'clindamycin', 'cloxacillin', 'colistin', 'dalbavancin', \n",
    "    'daptomycin', 'doripenem', 'doxycycline', 'ertapenem', 'gatifloxacin', 'gentamicin', 'imipenem', 'kanamycin', 'levofloxacin', 'lincomycin', 'linezolid', \n",
    "    'meropenem', 'methicillin', 'metronidazole', 'mezlocillin', 'minocycline', 'moxifloxacin', 'nafcillin', 'oritavancin', 'oxacillin', 'penicillin', 'piperacillin',\n",
    "    'pileracillin', 'tazobactam', 'polymyxin B', 'quinupristin', 'dalfopristin', 'streptomycin', 'tedizolid', 'telavancin', 'ticarcillin', 'ticarcillin', \n",
    "    'clavulanate', 'tigecycline', 'tobramycin', 'trimethoprim', 'sulfamethoxazole', 'vancomycin']"
   ]
  },
  {
   "cell_type": "code",
   "execution_count": 24,
   "id": "5243bf40",
   "metadata": {},
   "outputs": [
    {
     "name": "stderr",
     "output_type": "stream",
     "text": [
      "/tmp/ipykernel_95631/3787209301.py:2: SettingWithCopyWarning: \n",
      "A value is trying to be set on a copy of a slice from a DataFrame.\n",
      "Try using .loc[row_indexer,col_indexer] = value instead\n",
      "\n",
      "See the caveats in the documentation: https://pandas.pydata.org/pandas-docs/stable/user_guide/indexing.html#returning-a-view-versus-a-copy\n",
      "  anti_df['IV'] = anti_df['Procedure_name'].apply(lambda x: any([i in x.lower() for i in IV]))\n"
     ]
    }
   ],
   "source": [
    "anti_df = orders_df[orders_df['Procedure_name'].str.contains('|'.join(ANTIBIOTICS), na=False, case=False)]\n",
    "anti_df['IV'] = anti_df['Procedure_name'].apply(lambda x: any([i in x.lower() for i in IV]))"
   ]
  },
  {
   "cell_type": "code",
   "execution_count": 96,
   "id": "f008c529",
   "metadata": {},
   "outputs": [],
   "source": [
    "anti_df = anti_df[anti_df['CSN'].isin(anti_df.groupby('CSN')['Order_time'].agg(lambda x: x.max() - x.min()).loc[lambda x: x > pd.Timedelta(days=1)].index)]"
   ]
  },
  {
   "cell_type": "code",
   "execution_count": 25,
   "id": "0bfcf1db",
   "metadata": {},
   "outputs": [],
   "source": [
    "anti_df = anti_df.sort_values(['CSN', 'Order_time']).groupby('CSN').agg(list).reset_index()"
   ]
  },
  {
   "cell_type": "code",
   "execution_count": 101,
   "id": "fa1f5f86",
   "metadata": {},
   "outputs": [],
   "source": [
    "anti_df = anti_df[anti_df['Order_time'].apply(lambda x: (pd.Series(x).diff().iloc[1:] < pd.Timedelta(days=1)).all())]"
   ]
  },
  {
   "cell_type": "code",
   "execution_count": 26,
   "id": "383a3476",
   "metadata": {},
   "outputs": [],
   "source": [
    "anti_df = anti_df[anti_df['IV'].apply(sum) > 0]\n",
    "anti_df = anti_df[anti_df['IV'].apply(sum) >= 4]"
   ]
  },
  {
   "cell_type": "code",
   "execution_count": 27,
   "id": "15effdfa",
   "metadata": {},
   "outputs": [
    {
     "data": {
      "text/plain": [
       "3873"
      ]
     },
     "execution_count": 27,
     "metadata": {},
     "output_type": "execute_result"
    }
   ],
   "source": [
    "infection = list(set(blood_df['CSN']).intersection(anti_df[anti_df['IV'].apply(len) >= 2]['CSN']))\n",
    "len(infection)"
   ]
  },
  {
   "cell_type": "markdown",
   "id": "71d932f3",
   "metadata": {},
   "source": [
    "eSOFA"
   ]
  },
  {
   "cell_type": "code",
   "execution_count": 28,
   "id": "7d7f3e47",
   "metadata": {},
   "outputs": [],
   "source": [
    "blood_df = blood_df.rename(columns={'Order_time': 'Blood_time'})\n",
    "blood_df = blood_df[blood_df['CSN'].isin(infection)]"
   ]
  },
  {
   "cell_type": "code",
   "execution_count": 29,
   "id": "22f796c3",
   "metadata": {},
   "outputs": [],
   "source": [
    "def two_blood_time(df):\n",
    "    df = df.merge(blood_df, on='CSN', how='left')\n",
    "    df = df[(df['Order_time'] - df['Blood_time']).abs() <= pd.Timedelta(days=2)]\n",
    "    return df"
   ]
  },
  {
   "cell_type": "code",
   "execution_count": 30,
   "id": "7db965df",
   "metadata": {},
   "outputs": [],
   "source": [
    "MV = ['RESP - VENTILATOR SETTINGS', 'RESP - NON INVASIVE POS. PRESS VENT (BIPAP/CPAP)',\n",
    "      'RESP - LUNG PROTECTIVE VENTILATION PROTOCOL', 'RESP - NITRIC OXIDE VENT',\n",
    "      'RESP - INTRAPULMONARY PERCUSSIVE VENTILATION', 'RESP - WEAN VENTILATOR',\n",
    "      'RESP - NON INVASIVE POS. PRESS VENT FOR NEUROMUSCULAR DISEASE',\n",
    "      'RESP - MONITOR, PERFORM VENTILATOR AND PATIENT ASSESSMENT',\n",
    "      'LEAK SPEECH VENTILATION']\n",
    "mv_df = orders_df[(orders_df['Procedure_name'].isin(MV))]"
   ]
  },
  {
   "cell_type": "code",
   "execution_count": 31,
   "id": "b439075f",
   "metadata": {},
   "outputs": [],
   "source": [
    "CARDIO = ['norepinephrine', 'dopamine', 'epinephrine', 'phenylephrine', 'vasopressin']\n",
    "cardio_df = orders_df[(orders_df['Procedure_name'].str.contains('|'.join(CARDIO), na=False, case=False)) & (orders_df['Procedure_name'].str.contains('IV', na=False, case=False))]"
   ]
  },
  {
   "cell_type": "code",
   "execution_count": 32,
   "id": "32a2ef94",
   "metadata": {},
   "outputs": [],
   "source": [
    "mv_df = two_blood_time(mv_df)\n",
    "cardio_df = two_blood_time(cardio_df)"
   ]
  },
  {
   "cell_type": "code",
   "execution_count": 33,
   "id": "11700245",
   "metadata": {},
   "outputs": [],
   "source": [
    "labs_df = pd.read_csv(os.path.join(DATA_DIR, 'labs.csv'), usecols=['CSN', 'Order_time', 'Component_name', 'Component_value', 'Component_units'])\n",
    "labs_df['Component_value'] = labs_df['Component_value'].apply(try_parse_float)\n",
    "labs_df['Order_time'] = pd.to_datetime(labs_df['Order_time'].apply(lambda x: str(int(x[:4]) - 500) + x[4:]))"
   ]
  },
  {
   "cell_type": "code",
   "execution_count": 34,
   "id": "5a12e163",
   "metadata": {},
   "outputs": [],
   "source": [
    "LACTATE = ['POC:LACTATE, ISTAT', 'LACTATE.WHOLE BLD']\n",
    "lactate_df = labs_df[labs_df['Component_name'].isin(LACTATE)]\n",
    "lactate_df = lactate_df[lactate_df['Component_value'] > 2]"
   ]
  },
  {
   "cell_type": "code",
   "execution_count": 35,
   "id": "c3534ffa",
   "metadata": {},
   "outputs": [],
   "source": [
    "lactate_df = two_blood_time(lactate_df)"
   ]
  },
  {
   "cell_type": "code",
   "execution_count": 36,
   "id": "4ee13e51",
   "metadata": {},
   "outputs": [],
   "source": [
    "HEPATIC = ['BILIRUBIN, TOTAL']\n",
    "bilirubin_df = labs_df[labs_df['Component_name'].isin(HEPATIC)]"
   ]
  },
  {
   "cell_type": "code",
   "execution_count": 37,
   "id": "8c9887c0",
   "metadata": {},
   "outputs": [],
   "source": [
    "bilirubin_df = two_blood_time(bilirubin_df)\n",
    "bilirubin_min = bilirubin_df.groupby('CSN')['Component_value'].min().reset_index(name='min')\n",
    "bilirubin_df = bilirubin_df.merge(bilirubin_min, how='left', on= 'CSN')\n",
    "bilirubin_df = bilirubin_df[(bilirubin_df['Component_value'] > 2) & (bilirubin_df['Component_value'] > 2 * bilirubin_df['min'])]"
   ]
  },
  {
   "cell_type": "code",
   "execution_count": 38,
   "id": "6e56d500",
   "metadata": {},
   "outputs": [],
   "source": [
    "CREATININE = ['CREATININE', 'POC:CREATININE,ISTAT', 'CREATININE, SERUM']\n",
    "creatinine_df = labs_df[labs_df['Component_name'].isin(CREATININE)]"
   ]
  },
  {
   "cell_type": "code",
   "execution_count": 39,
   "id": "e4b0d9c5",
   "metadata": {},
   "outputs": [],
   "source": [
    "creatinine_df = two_blood_time(creatinine_df)\n",
    "creatinine_df_min = creatinine_df.groupby('CSN')['Component_value'].min().reset_index(name='min')\n",
    "creatinine_df = creatinine_df.merge(creatinine_df_min, how='left', on= 'CSN')\n",
    "creatinine_df = creatinine_df[(creatinine_df['Component_value'] > 2 * creatinine_df['min'])]"
   ]
  },
  {
   "cell_type": "code",
   "execution_count": 40,
   "id": "3445b3ef",
   "metadata": {},
   "outputs": [],
   "source": [
    "GFR = ['EGFR FOR AFRICAN AMERICAN', 'EGFR REFIT WITHOUT RACE (2021)', 'EGFR (CYSTATIN C)', 'EGFR (CREAT/CYSTATIN C)',\n",
    "       'POC:EGFR FOR AFRICAN AMERICAN', 'POC:EGFR REFIT WITHOUT RACE (2021)', 'EGFR BY CYSTATIN C:SERUM']\n",
    "gfr_df = labs_df[labs_df['Component_name'].isin(GFR)]"
   ]
  },
  {
   "cell_type": "code",
   "execution_count": 41,
   "id": "169ac022",
   "metadata": {},
   "outputs": [],
   "source": [
    "gfr_df = two_blood_time(gfr_df)\n",
    "gfr_max = gfr_df.groupby('CSN')['Component_value'].max().reset_index(name='max')\n",
    "gfr_df = gfr_df.merge(gfr_max, how='left', on= 'CSN')\n",
    "gfr_df = gfr_df[(gfr_df['Component_value'] * 2 < gfr_df['max'])]"
   ]
  },
  {
   "cell_type": "code",
   "execution_count": 42,
   "id": "cc0a0d8a",
   "metadata": {},
   "outputs": [],
   "source": [
    "COAG = ['PLATELET COUNT (PLT)']\n",
    "coag_df = labs_df[labs_df['Component_name'].isin(COAG)]"
   ]
  },
  {
   "cell_type": "code",
   "execution_count": 43,
   "id": "abd4382b",
   "metadata": {},
   "outputs": [],
   "source": [
    "coag_df = two_blood_time(coag_df)\n",
    "coag_max = coag_df.groupby('CSN')['Component_value'].max().reset_index(name='max')\n",
    "coag_df = coag_df.merge(coag_max, how='left', on= 'CSN')\n",
    "coag_df = coag_df[(coag_df['max'] > 100) & (coag_df['Component_value'] * 2 < coag_df['max']) & (coag_df['Component_value'] < 100)]"
   ]
  },
  {
   "cell_type": "code",
   "execution_count": 44,
   "id": "aaa7bd1c",
   "metadata": {},
   "outputs": [
    {
     "data": {
      "text/plain": [
       "1704"
      ]
     },
     "execution_count": 44,
     "metadata": {},
     "output_type": "execute_result"
    }
   ],
   "source": [
    "eSOFA = pd.concat([mv_df[['CSN', 'Order_time']], cardio_df[['CSN', 'Order_time']], \n",
    "                   lactate_df[['CSN', 'Order_time']], bilirubin_df[['CSN', 'Order_time']], \n",
    "                   creatinine_df[['CSN', 'Order_time']], gfr_df[['CSN', 'Order_time']], \n",
    "                   coag_df[['CSN', 'Order_time']]])\n",
    "eSOFA = eSOFA.groupby('CSN').min().reset_index()\n",
    "eSOFA = eSOFA.rename(columns={'Order_time' : 'Trigger_time'})\n",
    "len(eSOFA)"
   ]
  },
  {
   "cell_type": "code",
   "execution_count": 121,
   "id": "f455c6f3",
   "metadata": {},
   "outputs": [],
   "source": [
    "eSOFA = cohort_df.merge(eSOFA, on='CSN', how='left')\n",
    "eSOFA['Label'] = ~(eSOFA['Trigger_time'].isna())\n",
    "eSOFA['Trigger_time'] = (eSOFA['Trigger_time'] - eSOFA['Arrival_time']).dt.total_seconds() / 3600\n",
    "eSOFA = eSOFA[['CSN', 'Label', 'Trigger_time']]"
   ]
  },
  {
   "cell_type": "code",
   "execution_count": 123,
   "id": "511a705e",
   "metadata": {},
   "outputs": [
    {
     "data": {
      "text/plain": [
       "14866"
      ]
     },
     "execution_count": 123,
     "metadata": {},
     "output_type": "execute_result"
    }
   ],
   "source": [
    "eSOFA['CSN'].nunique()"
   ]
  },
  {
   "cell_type": "code",
   "execution_count": 60,
   "id": "39f31bf5",
   "metadata": {},
   "outputs": [],
   "source": [
    "eSOFA.to_parquet('eSOFA.parquet')"
   ]
  },
  {
   "cell_type": "code",
   "execution_count": null,
   "id": "ecca47e5",
   "metadata": {},
   "outputs": [],
   "source": [
    "label_df = eSOFA[~eSOFA['Trigger_time'].isna()]\n",
    "bin_width = 0.5\n",
    "min_val = label_df['Trigger_time'].min()\n",
    "max_val = label_df['Trigger_time'].max()\n",
    "bins = np.arange(min_val, max_val + bin_width, bin_width)\n",
    "\n",
    "# Plot the histogram\n",
    "plt.figure(figsize=(12, 4))\n",
    "plt.hist(label_df['Trigger_time'], bins=bins, edgecolor='black')\n",
    "plt.title('Time-to-Event')\n",
    "plt.xlabel('Trigger_time (h)')\n",
    "plt.ylabel('# Encounters')\n",
    "plt.grid(True)\n",
    "plt.show()"
   ]
  },
  {
   "cell_type": "markdown",
   "id": "6b3b11cd",
   "metadata": {},
   "source": [
    "qSOFA"
   ]
  },
  {
   "cell_type": "code",
   "execution_count": null,
   "id": "e148582b",
   "metadata": {},
   "outputs": [],
   "source": [
    "order_df = pd.read_csv(os.path.join(DATA_DIR, 'orders.csv'), usecols=['CSN', 'Procedure_name', 'Order_time'])\n",
    "visits_df = pd.read_csv(os.path.join(DATA_DIR, 'visits.csv'), usecols=['CSN', 'CC', 'Triage_SBP', 'Triage_RR', 'Arrival_time'])\n",
    "order_df = order_df.rename(columns={'Order_time': 'Time'})\n",
    "visits_df = visits_df.rename(columns={'Arrival_time': 'Time'})"
   ]
  },
  {
   "cell_type": "code",
   "execution_count": null,
   "id": "594abdcb",
   "metadata": {},
   "outputs": [],
   "source": [
    "# altered mental status\n",
    "mental_df = order_df[order_df['Procedure_name'].str.contains('mental', case=False, na=False)][['CSN', 'Time']]\n",
    "mental_visits_df = visits_df[visits_df['CC'].str.contains('altered mental', case=False, na=False)][['CSN', 'Time']]\n",
    "mental_df = pd.concat([mental_df, mental_visits_df])"
   ]
  },
  {
   "cell_type": "code",
   "execution_count": null,
   "id": "db39418e",
   "metadata": {},
   "outputs": [],
   "source": [
    "numerics_df = pd.read_csv(os.path.join(DATA_DIR, 'numerics.csv'), usecols=['CSN', 'Measure', 'Value', 'Time'])"
   ]
  },
  {
   "cell_type": "code",
   "execution_count": null,
   "id": "8cf1dd72",
   "metadata": {},
   "outputs": [],
   "source": [
    "# SBP < 100mmHg\n",
    "sbp_df = numerics_df[(numerics_df['Measure'] == 'SBP') & (numerics_df['Value'] < 100)][['CSN', 'Time']]\n",
    "sbp_df2 = visits_df[visits_df['Triage_SBP'] < 100][['CSN', 'Time']]\n",
    "sbp_df = pd.concat([sbp_df, sbp_df2])"
   ]
  },
  {
   "cell_type": "code",
   "execution_count": null,
   "id": "ad6a53de",
   "metadata": {},
   "outputs": [],
   "source": [
    "# RR > 22/min\n",
    "rr_df = numerics_df[(numerics_df['Measure'] == 'RR') & (numerics_df['Value'] > 22)][['CSN', 'Time']]\n",
    "rr_df2 = visits_df[visits_df['Triage_RR'] > 22][['CSN', 'Time']]\n",
    "rr_df = pd.concat([rr_df, rr_df2])"
   ]
  },
  {
   "cell_type": "code",
   "execution_count": null,
   "id": "8f76be3f",
   "metadata": {},
   "outputs": [],
   "source": [
    "mental_df['Measure'] = 'MENTAL'\n",
    "sbp_df['Measure'] = 'SBP'\n",
    "rr_df['Measure'] = 'RR'"
   ]
  },
  {
   "cell_type": "code",
   "execution_count": null,
   "id": "0097a8cf",
   "metadata": {},
   "outputs": [],
   "source": [
    "qSOFA = pd.concat([mental_df, sbp_df, rr_df])\n",
    "qSOFA['Time'] = pd.to_datetime(qSOFA['Time'].apply(lambda x: str(int(x[:4]) - 500) + x[4:]))\n",
    "qSOFA = qSOFA.sort_values(['CSN', 'Time']).groupby('CSN').agg(list).reset_index()\n",
    "qSOFA = qSOFA[qSOFA['Measure'].apply(lambda x: len(set(x))) >= 3]"
   ]
  },
  {
   "cell_type": "markdown",
   "id": "fc9f5f27",
   "metadata": {},
   "source": [
    "Create Dataset"
   ]
  },
  {
   "cell_type": "code",
   "execution_count": 64,
   "id": "8b40e63d",
   "metadata": {},
   "outputs": [],
   "source": [
    "import pickle"
   ]
  },
  {
   "cell_type": "code",
   "execution_count": 61,
   "id": "e709f02b",
   "metadata": {},
   "outputs": [],
   "source": [
    "COLS_NAME = ['event', 'time', 'value']\n",
    "COLS = {\n",
    "    \"labs\": ['Component_name', 'Order_time', 'Component_value'],\n",
    "    \"numerics\": ['Measure', 'Time', 'Value'],\n",
    "    \"orders\": ['Procedure_ID', 'Order_time'],\n",
    "}"
   ]
  },
  {
   "cell_type": "code",
   "execution_count": 62,
   "id": "db4c9e19",
   "metadata": {},
   "outputs": [],
   "source": [
    "def read_csv_fn(fn, label_df):\n",
    "    cols = COLS[fn]\n",
    "    df = pd.read_csv(os.path.join(DATA_DIR, f'{fn}.csv'), usecols=['CSN'] + cols)\n",
    "    df = df[df['CSN'].isin(label_df['CSN'])]\n",
    "    df = df.rename(columns={c: COLS_NAME[i] for i, c in enumerate(cols)})\n",
    "    df = df.dropna()\n",
    "    df['event'] = df['event'].astype(str)\n",
    "    return df"
   ]
  },
  {
   "cell_type": "code",
   "execution_count": 65,
   "id": "df40534e",
   "metadata": {},
   "outputs": [],
   "source": [
    "def bucket_eventval(event, val, d):\n",
    "    buckets = d[event]\n",
    "    ind = np.searchsorted(buckets, val, side='right')\n",
    "    if ind == len(buckets):\n",
    "        eventval = f\"{event}|{buckets[ind-1]}-\"\n",
    "    else:\n",
    "        eventval = f\"{event}|{buckets[ind-1]}-{buckets[ind]}\"\n",
    "    return eventval"
   ]
  },
  {
   "cell_type": "code",
   "execution_count": 66,
   "id": "8f411a9a",
   "metadata": {},
   "outputs": [],
   "source": [
    "def bucket_ind(event, val, d):\n",
    "    buckets = d[event]\n",
    "    ind = np.searchsorted(buckets, val, side='right')\n",
    "    return ind"
   ]
  },
  {
   "cell_type": "code",
   "execution_count": 71,
   "id": "af137472",
   "metadata": {},
   "outputs": [],
   "source": [
    "def create_df():\n",
    "    label_df = pd.read_parquet('eSOFA.parquet')\n",
    "    visits_df = pd.read_csv(os.path.join(DATA_DIR, 'visits.csv'), usecols=['CSN', 'Arrival_time']) # 'Age', 'Gender', 'Race', 'Ethnicity'\n",
    "\n",
    "    vitals_df = read_csv_fn('numerics', label_df)\n",
    "    with open('../next_token/numerics_buckets.pkl', 'rb') as f:\n",
    "        buckets = pickle.load(f)\n",
    "    vitals_df['eventval'] = vitals_df.apply(lambda x: bucket_eventval(x['event'], x['value'], buckets), axis=1)\n",
    "    vitals_df['buckets'] = vitals_df.apply(lambda x: bucket_ind(x['event'], x['value'], buckets), axis=1)\n",
    "\n",
    "    labs_df = read_csv_fn('labs', label_df)\n",
    "    labs_df['value'] = labs_df['value'].replace([None], 0.0).apply(try_parse_float)\n",
    "    labs_df['value'] = labs_df['value'].apply(lambda x: 0.0 if isinstance(x, str) and 'pos' in x.lower() else x)\n",
    "    labs_df['value'] = labs_df['value'].apply(lambda x: 1.0 if isinstance(x, str) and (any(sub in x.lower() for sub in ['neg', 'not', 'none', 'auto'])) else x)\n",
    "\n",
    "    with open('../next_token/labs_buckets.pkl', 'rb') as f:\n",
    "        buckets = pickle.load(f)\n",
    "    labs_df['eventval'] = labs_df.apply(lambda x: bucket_eventval(x['event'], x['value'], buckets), axis=1)\n",
    "    labs_df['buckets'] = labs_df.apply(lambda x: bucket_ind(x['event'], x['value'], buckets), axis=1)\n",
    "\n",
    "    orders_df = read_csv_fn('orders', label_df)\n",
    "    orders_df['value'] = 0\n",
    "    orders_df['buckets'] = 0\n",
    "    orders_df['eventval'] = orders_df['event']\n",
    "\n",
    "    df = pd.concat([labs_df, vitals_df, orders_df])\n",
    "    df = df.merge(visits_df, on='CSN', how='left')\n",
    "\n",
    "    df['time'] = df['time'].apply(lambda x: str(int(x[:4]) - 500) + x[4:])\n",
    "    df['Arrival_time'] = df['Arrival_time'].apply(lambda x: str(int(x[:4]) - 500) + x[4:])\n",
    "    df['time'] = pd.to_datetime(df['time']) - pd.to_datetime(df['Arrival_time'])\n",
    "    df['time'] = df['time'].dt.total_seconds() / 3600\n",
    "    df = df.drop(columns=['Arrival_time'])\n",
    "    return df"
   ]
  },
  {
   "cell_type": "code",
   "execution_count": 72,
   "id": "6551de0a",
   "metadata": {},
   "outputs": [],
   "source": [
    "df = create_df()"
   ]
  },
  {
   "cell_type": "code",
   "execution_count": 74,
   "id": "b3cfda33",
   "metadata": {},
   "outputs": [],
   "source": [
    "df.to_parquet(\"eSOFA_data.parquet\")"
   ]
  },
  {
   "cell_type": "markdown",
   "id": "6754dd35",
   "metadata": {},
   "source": [
    "eSOFA criteria buckets"
   ]
  },
  {
   "cell_type": "code",
   "execution_count": null,
   "id": "2a2bfde2",
   "metadata": {},
   "outputs": [],
   "source": [
    "import pickle"
   ]
  },
  {
   "cell_type": "code",
   "execution_count": 2,
   "id": "42cb6ecd",
   "metadata": {},
   "outputs": [],
   "source": [
    "df = pd.read_parquet(\"../data/nesy.parquet\")"
   ]
  },
  {
   "cell_type": "code",
   "execution_count": null,
   "id": "56627c1a",
   "metadata": {},
   "outputs": [],
   "source": [
    "LACTATE = ['POC:LACTATE, ISTAT', 'LACTATE.WHOLE BLD']\n",
    "HEPATIC = ['BILIRUBIN, TOTAL']\n",
    "CREATININE = ['CREATININE', 'POC:CREATININE,ISTAT', 'CREATININE, SERUM']\n",
    "GFR = ['EGFR FOR AFRICAN AMERICAN', 'EGFR REFIT WITHOUT RACE (2021)', 'EGFR (CYSTATIN C)', 'EGFR (CREAT/CYSTATIN C)',\n",
    "       'POC:EGFR FOR AFRICAN AMERICAN', 'POC:EGFR REFIT WITHOUT RACE (2021)', 'EGFR BY CYSTATIN C:SERUM']\n",
    "COAG = ['PLATELET COUNT (PLT)']"
   ]
  },
  {
   "cell_type": "code",
   "execution_count": null,
   "id": "e15fc697",
   "metadata": {},
   "outputs": [],
   "source": [
    "with open('../next_token/labs_buckets.pkl', 'rb') as f:\n",
    "    labs_dict = pickle.load(f)"
   ]
  },
  {
   "cell_type": "code",
   "execution_count": 72,
   "id": "f1ee7fe5",
   "metadata": {},
   "outputs": [],
   "source": [
    "def bucket_ind(event, val):\n",
    "    buckets = labs_dict[event]\n",
    "    ind = np.searchsorted(buckets, val, side='right')\n",
    "    return ind"
   ]
  },
  {
   "cell_type": "code",
   "execution_count": 68,
   "id": "b6958752",
   "metadata": {},
   "outputs": [],
   "source": [
    "ranges = [0, 1, 2, 3, 4, 5, 6, 7, 8, 9, 10, 11]"
   ]
  },
  {
   "cell_type": "code",
   "execution_count": 89,
   "id": "f4b5a7da",
   "metadata": {},
   "outputs": [],
   "source": [
    "def criteria_bucket(x):\n",
    "    buckets = {}\n",
    "    n_hepatic, n_creatinine, n_gfr, n_coag = x\n",
    "    n_lactate = 2\n",
    "    for i, n, fn in zip([HEPATIC, CREATININE, GFR, COAG, LACTATE], [n_hepatic, n_creatinine, n_gfr, n_coag, n_lactate], ['gt', 'gt', 'lt', 'lt', 'gt']):\n",
    "        if np.isnan(n): continue\n",
    "        for j in i:\n",
    "            ind = bucket_ind(j, n)\n",
    "            if fn == 'gt': buckets[j]= ranges[ind:]\n",
    "            else: buckets[j] = ranges[:ind+1]\n",
    "    return buckets"
   ]
  },
  {
   "cell_type": "code",
   "execution_count": 90,
   "id": "c12a4adb",
   "metadata": {},
   "outputs": [],
   "source": [
    "df['criteria_bucket'] = df['criteria'].apply(criteria_bucket)"
   ]
  },
  {
   "cell_type": "code",
   "execution_count": 92,
   "id": "a9202f60",
   "metadata": {},
   "outputs": [],
   "source": [
    "df = df.to_parquet(\"../data/nesy.parquet\")"
   ]
  },
  {
   "cell_type": "markdown",
   "id": "82347673",
   "metadata": {},
   "source": [
    "eSOFA"
   ]
  },
  {
   "cell_type": "code",
   "execution_count": null,
   "id": "d4fbc1d0",
   "metadata": {},
   "outputs": [],
   "source": [
    "DATA_DIR = 'mc-med'\n",
    "MCMED_DIR = \"mc-med/mc-med-1.0.0/data\"\n",
    "\n",
    "CARDIO = ['norepinephrine', 'dopamine', 'epinephrine', 'phenylephrine', 'vasopressin']\n",
    "MV = ['RESP - VENTILATOR SETTINGS', 'RESP - NON INVASIVE POS. PRESS VENT (BIPAP/CPAP)',\n",
    "      'RESP - LUNG PROTECTIVE VENTILATION PROTOCOL', 'RESP - NITRIC OXIDE VENT',\n",
    "      'RESP - INTRAPULMONARY PERCUSSIVE VENTILATION', 'RESP - WEAN VENTILATOR',\n",
    "      'RESP - NON INVASIVE POS. PRESS VENT FOR NEUROMUSCULAR DISEASE',\n",
    "      'RESP - MONITOR, PERFORM VENTILATOR AND PATIENT ASSESSMENT',\n",
    "      'LEAK SPEECH VENTILATION']\n",
    "LACTATE = ['POC:LACTATE, ISTAT', 'LACTATE.WHOLE BLD']\n",
    "\n",
    "HEPATIC = ['BILIRUBIN, TOTAL']\n",
    "CREATININE = ['CREATININE', 'POC:CREATININE,ISTAT', 'CREATININE, SERUM']\n",
    "GFR = ['EGFR FOR AFRICAN AMERICAN', 'EGFR REFIT WITHOUT RACE (2021)', 'EGFR (CYSTATIN C)', 'EGFR (CREAT/CYSTATIN C)',\n",
    "       'POC:EGFR FOR AFRICAN AMERICAN', 'POC:EGFR REFIT WITHOUT RACE (2021)', 'EGFR BY CYSTATIN C:SERUM']\n",
    "COAG = ['PLATELET COUNT (PLT)']"
   ]
  },
  {
   "cell_type": "code",
   "execution_count": null,
   "id": "cf73e16c",
   "metadata": {},
   "outputs": [],
   "source": [
    "def get_baseline(x):\n",
    "    hepatic, creatinine, gfr, coag = None, None, None, None\n",
    "    for e, v in zip(x['event'], x['value']):\n",
    "        if e in HEPATIC:\n",
    "            if hepatic is None or v < hepatic: hepatic = v\n",
    "        elif e in CREATININE:\n",
    "            if creatinine is None or v < creatinine: creatinine = v\n",
    "        elif e in GFR:\n",
    "            if gfr is None or v > gfr: gfr = v\n",
    "        elif e in COAG:\n",
    "            if coag is None or v > coag: coag = v\n",
    "    return hepatic, creatinine, gfr, coag"
   ]
  },
  {
   "cell_type": "code",
   "execution_count": null,
   "id": "7c2282f2",
   "metadata": {},
   "outputs": [],
   "source": [
    "def renal():\n",
    "    pmh_df = pd.read_csv(os.path.join(MCMED_DIR, \"pmh.csv\"), usecols=['MRN', 'Code'])\n",
    "    visits_df = pd.read_csv(os.path.join(MCMED_DIR, \"visits.csv\"), usecols=['MRN', 'CSN', 'Dx_ICD9', 'Dx_ICD10'])\n",
    "\n",
    "    pmh_df = pmh_df[pmh_df['Code'] == 'N186']\n",
    "    pmh_df = pmh_df.merge(visits_df[['CSN', 'MRN']], on='MRN', how='left')\n",
    "\n",
    "    visits_df = visits_df[(visits_df['Dx_ICD9'] == 'N18.6') | (visits_df['Dx_ICD10'] == 'N18.6')]\n",
    "\n",
    "    renal = pd.concat([visits_df[['CSN']], pmh_df[['CSN']]])\n",
    "    renal = renal.drop_duplicates()\n",
    "    return renal"
   ]
  },
  {
   "cell_type": "code",
   "execution_count": null,
   "id": "809e1187",
   "metadata": {},
   "outputs": [],
   "source": [
    "def get_criteria_csn(csn, x, renal_ids):\n",
    "    print(csn)\n",
    "    hepatic, creatinine, gfr, coag = x\n",
    "    target_hepatic = hepatic * 2 if not hepatic is None else None\n",
    "    target_creatinine = None if (csn in renal_ids['CSN'] or creatinine is None) else creatinine * 2\n",
    "    target_gfr = None if (csn in renal_ids['CSN'] or gfr is None) else gfr / 2\n",
    "    target_coag = coag / 2 if ((not coag is None) and coag > 100) else None\n",
    "    return target_hepatic, target_creatinine, target_gfr, target_coag"
   ]
  },
  {
   "cell_type": "code",
   "execution_count": null,
   "id": "61ac2de3",
   "metadata": {},
   "outputs": [],
   "source": [
    "def get_criteria(x):\n",
    "    hepatic, creatinine, gfr, coag = x\n",
    "    target_hepatic = hepatic * 2 if not hepatic is None else None\n",
    "    target_creatinine = creatinine * 2 if not creatinine is None else None\n",
    "    target_gfr = gfr / 2 if not gfr is None else None\n",
    "    target_coag = coag / 2 if ((not coag is None) and coag > 100) else None\n",
    "    return target_hepatic, target_creatinine, target_gfr, target_coag"
   ]
  },
  {
   "cell_type": "code",
   "execution_count": null,
   "id": "7f497339",
   "metadata": {},
   "outputs": [],
   "source": [
    "def get_eSOFA(x, tokens, tokens_dict):\n",
    "    n_hepatic, n_creatinine, n_gfr, n_coag = x\n",
    "    \n",
    "    resp = [e for e in tokens if e.startswith(tuple(MV))]\n",
    "    cardio = [e for e in tokens if e.startswith(tuple(CARDIO))]\n",
    "\n",
    "    lactate = [e for e in tokens if e.startswith(tuple(LACTATE))]\n",
    "    lactate = [e for e in lactate if (tokens_dict[e][2] is None or tokens_dict[e][2] > 2)]\n",
    "    eSOFA = resp + cardio + lactate\n",
    "\n",
    "    if not n_hepatic is None:\n",
    "        hepatic = [e for e in tokens if e.startswith(tuple(HEPATIC))]\n",
    "        hepatic = [e for e in hepatic if (tokens_dict[e][2] is None or tokens_dict[e][2] > max(2, n_hepatic))]\n",
    "        eSOFA += hepatic\n",
    "\n",
    "    if not n_creatinine is None:   \n",
    "        creatinine = [e for e in tokens if e.startswith(tuple(CREATININE))]\n",
    "        creatinine = [e for e in creatinine if (tokens_dict[e][2] is None or tokens_dict[e][2] > n_creatinine)]\n",
    "        eSOFA += creatinine\n",
    "\n",
    "    if not n_gfr is None:\n",
    "        gfr = [e for e in tokens if e.startswith(tuple(GFR))]\n",
    "        gfr = [e for e in gfr if (tokens_dict[e][1] is None or tokens_dict[e][1] < n_gfr)]\n",
    "        eSOFA += gfr\n",
    "\n",
    "    if not n_coag is None:\n",
    "        coag = [e for e in tokens if e.startswith(tuple(COAG))]\n",
    "        coag = [e for e in coag if (tokens_dict[e][1] is None or tokens_dict[e][1] < min(100, n_coag))]\n",
    "        eSOFA += coag\n",
    "\n",
    "    return eSOFA"
   ]
  },
  {
   "cell_type": "code",
   "execution_count": null,
   "id": "63a1c5f5",
   "metadata": {},
   "outputs": [],
   "source": [
    "df = pd.read_parquet(os.path.join(DATA_DIR, \"data/eSOFA_data.parquet\"))\n",
    "label_df = pd.read_parquet(os.path.join(DATA_DIR, \"data/eSOFA.parquet\"))"
   ]
  },
  {
   "cell_type": "code",
   "execution_count": null,
   "id": "020a09bf",
   "metadata": {},
   "outputs": [],
   "source": [
    "renal_ids = renal()"
   ]
  },
  {
   "cell_type": "code",
   "execution_count": null,
   "id": "24c2fc5b",
   "metadata": {},
   "outputs": [],
   "source": [
    "tokens = list(set().union(*df['eventval']))\n",
    "tokens_dict = {}\n",
    "for t in tokens:\n",
    "    if '|' in t:\n",
    "        event, range = t.split('|')\n",
    "        if range[0] == '-':\n",
    "            min_val, max_val = range[1:].split('-', 1)\n",
    "            min_val = '-' + min_val\n",
    "        else:\n",
    "            min_val, max_val = range.split('-', 1)\n",
    "        \n",
    "        min_val = float(min_val) if len(min_val) > 0 else None\n",
    "        max_val = float(max_val) if len(max_val) > 0 else None\n",
    "        tokens_dict[t] = (event, min_val, max_val)\n",
    "    else:\n",
    "        tokens_dict[t] = (t, None, None)\n",
    "\n",
    "df['baseline'] = df.apply(get_baseline, axis=1)\n",
    "df['criteria'] = df.apply(lambda x: get_criteria_csn(x['CSN'], x['baseline']), axis=1)\n",
    "df['eSOFA'] = df['criteria'].apply(lambda x: get_eSOFA(x, tokens, tokens_dict))\n",
    "df.to_parquet('data/nesy.parquet')"
   ]
  }
 ],
 "metadata": {
  "kernelspec": {
   "display_name": "arpah",
   "language": "python",
   "name": "python3"
  },
  "language_info": {
   "codemirror_mode": {
    "name": "ipython",
    "version": 3
   },
   "file_extension": ".py",
   "mimetype": "text/x-python",
   "name": "python",
   "nbconvert_exporter": "python",
   "pygments_lexer": "ipython3",
   "version": "3.11.1"
  }
 },
 "nbformat": 4,
 "nbformat_minor": 5
}
