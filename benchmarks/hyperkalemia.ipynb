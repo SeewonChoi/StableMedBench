{
 "cells": [
  {
   "cell_type": "code",
   "execution_count": null,
   "id": "cfab1401",
   "metadata": {},
   "outputs": [],
   "source": [
    "import os\n",
    "import pandas as pd\n",
    "import numpy as np\n",
    "from scipy.stats import linregress, kurtosis, skew"
   ]
  },
  {
   "cell_type": "code",
   "execution_count": null,
   "id": "5e68b064",
   "metadata": {},
   "outputs": [],
   "source": [
    "DATA_DIR = f'data/'"
   ]
  },
  {
   "cell_type": "code",
   "execution_count": null,
   "id": "c93c6d89",
   "metadata": {},
   "outputs": [],
   "source": [
    "def get_labs(phenotype):\n",
    "    df_phenotype = None\n",
    "\n",
    "    label_df = pd.read_csv(os.path.join(DATA_DIR, f'benchmark/{phenotype}/labeled_patients.csv'))\n",
    "    ids = label_df['patient_id'].unique()\n",
    "\n",
    "    for i in range(0, 34):\n",
    "        df = pd.read_parquet(os.path.join(DATA_DIR, f'data/output_{i}.parquet'))\n",
    "        df = df[df['patient_id'].isin(ids)]\n",
    "\n",
    "        if len(df) == 0: continue\n",
    "        elif df_phenotype is None:\n",
    "            df_phenotype = df\n",
    "        else: df_phenotype = pd.concat([df_phenotype, df])\n",
    "    return df_phenotype"
   ]
  },
  {
   "cell_type": "markdown",
   "id": "a3f4047f",
   "metadata": {},
   "source": [
    "HYP0GLYCEMIA"
   ]
  },
  {
   "cell_type": "code",
   "execution_count": null,
   "id": "83e6c319",
   "metadata": {},
   "outputs": [],
   "source": [
    "HYPERGLYCEMIA = ['SNOMED/33747003', 'LOINC/LP416145-3', 'LOINC/14749-6']"
   ]
  },
  {
   "cell_type": "code",
   "execution_count": null,
   "id": "d2dabaf5",
   "metadata": {},
   "outputs": [],
   "source": [
    "df_hypoglycemia = get_labs('lab_hypoglycemia')\n",
    "df_hypoglycemia.to_parquet(os.path.join(DATA_DIR, 'hypoglycemia.parquet'))"
   ]
  },
  {
   "cell_type": "markdown",
   "id": "4ee57a63",
   "metadata": {},
   "source": [
    "HYPERKALEMIA"
   ]
  },
  {
   "cell_type": "code",
   "execution_count": null,
   "id": "7754dbd3",
   "metadata": {},
   "outputs": [],
   "source": [
    "HYPERKALEMIA = ['LOINC/LG7931-1', 'LOINC/LP386618-5', 'LOINC/LG10990-6', 'LOINC/6298-4', 'LOINC/2823-3']"
   ]
  },
  {
   "cell_type": "code",
   "execution_count": null,
   "id": "69c4bb1d",
   "metadata": {},
   "outputs": [],
   "source": [
    "df_hyperkalemia = get_labs('lab_hyperkalemia')\n",
    "df_hyperkalemia.to_parquet(os.path.join(DATA_DIR, 'hyperkalemia.parquet'))"
   ]
  },
  {
   "cell_type": "markdown",
   "id": "ab851dd2",
   "metadata": {},
   "source": [
    "LABELS"
   ]
  },
  {
   "cell_type": "code",
   "execution_count": null,
   "id": "dcbdd147",
   "metadata": {},
   "outputs": [],
   "source": [
    "ROOT_DIR = 'data'\n",
    "TASK_PREFIX = 'guo_' # lab_i, guo_\n",
    "TASK = 'icu' # 'hyperkalemia', 'hypoglycemia', 'hyponatremia', 'thrombocytopenia', 'anemia' 'chexpert\n",
    "DATA_DIR = os.path.join(ROOT_DIR, f'{TASK_PREFIX}{TASK}')"
   ]
  },
  {
   "cell_type": "code",
   "execution_count": null,
   "id": "60c2ba5b",
   "metadata": {},
   "outputs": [],
   "source": [
    "label_df = pd.read_csv(os.path.join(DATA_DIR, 'labeled_patients.csv'))\n",
    "label_df = label_df.drop_duplicates()"
   ]
  },
  {
   "cell_type": "code",
   "execution_count": null,
   "id": "9990ca2d",
   "metadata": {},
   "outputs": [],
   "source": [
    "three_df = label_df[label_df['value']==3]\n",
    "two_df = label_df[(label_df['value']==2) & (~label_df['patient_id'].isin(three_df['patient_id']))]\n",
    "one_df = label_df[(label_df['value']==1) & (~label_df['patient_id'].isin(three_df['patient_id'])) & (~label_df['patient_id'].isin(two_df['patient_id']))]\n",
    "neg_df = label_df[(label_df['value']==0) & (~label_df['patient_id'].isin(three_df['patient_id'])) \n",
    "                  & (~label_df['patient_id'].isin(two_df['patient_id'])) & (~label_df['patient_id'].isin(one_df['patient_id']))]"
   ]
  },
  {
   "cell_type": "code",
   "execution_count": null,
   "id": "3506658c",
   "metadata": {},
   "outputs": [],
   "source": [
    "three_df = three_df.groupby('patient_id').min().reset_index()\n",
    "two_df = two_df.groupby('patient_id').min().reset_index()\n",
    "one_df = one_df.groupby('patient_id').min().reset_index()\n",
    "neg_df = neg_df.groupby('patient_id').min().reset_index()"
   ]
  },
  {
   "cell_type": "code",
   "execution_count": null,
   "id": "8375faa4",
   "metadata": {},
   "outputs": [],
   "source": [
    "label_df = pd.concat([three_df, two_df, one_df, neg_df], ignore_index=True)"
   ]
  },
  {
   "cell_type": "code",
   "execution_count": null,
   "id": "ffb2766e",
   "metadata": {},
   "outputs": [],
   "source": [
    "label_df.to_parquet(os.path.join(DATA_DIR, f'{TASK}_label.parquet'))"
   ]
  },
  {
   "cell_type": "code",
   "execution_count": null,
   "id": "a7fe8af2",
   "metadata": {},
   "outputs": [],
   "source": [
    "for task_name in ['anemia', 'hyperkalemia', 'hypoglycemia', 'hyponatremia', 'thrombocytopenia']:\n",
    "    task_type = f'lab_{task_name}'\n",
    "    label_df = pd.read_parquet(f'data/{task_type}/{task_name}_label.parquet')\n",
    "\n",
    "    label_df['value_multi'] = label_df['value']\n",
    "    label_df['value']  = label_df['value'] == 3\n",
    "    label_df.to_parquet(f'data/{task_type}/{task_name}_label.parquet')"
   ]
  },
  {
   "cell_type": "markdown",
   "id": "e5e1efd5",
   "metadata": {},
   "source": [
    "DEMOGRAPHICS"
   ]
  },
  {
   "cell_type": "code",
   "execution_count": null,
   "id": "ab430f57",
   "metadata": {},
   "outputs": [],
   "source": [
    "task_name = 'thrombocytopenia'      # anemia, hyperkalemia, hypoglycemia, hyponatremia\n",
    "task_type = f'lab_{task_name}'"
   ]
  },
  {
   "cell_type": "code",
   "execution_count": null,
   "id": "371da12a",
   "metadata": {},
   "outputs": [],
   "source": [
    "df = pd.read_parquet(f'data/{task_type}/{task_name}.parquet')\n",
    "label_df = pd.read_parquet(f'data/{task_type}//{task_name}_label.parquet')"
   ]
  },
  {
   "cell_type": "code",
   "execution_count": null,
   "id": "56e8afb6",
   "metadata": {},
   "outputs": [],
   "source": [
    "assert(df['patient_id'].nunique() == len(label_df))"
   ]
  },
  {
   "cell_type": "code",
   "execution_count": null,
   "id": "1510a846",
   "metadata": {},
   "outputs": [],
   "source": [
    "demo_df = df[df['omop_table'] == 'person']\n",
    "df = df[~(df['omop_table'] == 'person')]"
   ]
  },
  {
   "cell_type": "code",
   "execution_count": null,
   "id": "14202d95",
   "metadata": {},
   "outputs": [],
   "source": [
    "start_time = df[['patient_id', 'start']].groupby('patient_id').min().reset_index()\n",
    "label_df = label_df.merge(start_time, on='patient_id')"
   ]
  },
  {
   "cell_type": "code",
   "execution_count": null,
   "id": "9dc52df3",
   "metadata": {},
   "outputs": [],
   "source": [
    "birth_df = demo_df[demo_df['code'] == 'SNOMED/3950001'][['patient_id', 'start']]\n",
    "birth_df = birth_df.rename(columns={'start': 'birth'})\n",
    "label_df = label_df.merge(birth_df, on='patient_id', how='left')"
   ]
  },
  {
   "cell_type": "code",
   "execution_count": null,
   "id": "28fbee7f",
   "metadata": {},
   "outputs": [],
   "source": [
    "label_df['start'] = pd.to_datetime(label_df['start'])\n",
    "label_df['birth'] = pd.to_datetime(label_df['birth'])\n",
    "label_df['age'] = label_df.apply(lambda x: x['start'].year - x['birth'].year - ((x['start'].month, x['start'].day) < (x['birth'].month, x['birth'].day)), axis=1)\n",
    "label_df['prediction_time'] = pd.to_datetime(label_df['prediction_time'])"
   ]
  },
  {
   "cell_type": "code",
   "execution_count": null,
   "id": "e65ff326",
   "metadata": {},
   "outputs": [],
   "source": [
    "gender_df = demo_df[demo_df['code'].str.startswith('Gender/')][['patient_id', 'code']]\n",
    "gender_df = gender_df.rename(columns={'code' : 'gender'})\n",
    "label_df = label_df.merge(gender_df, on='patient_id', how='left')"
   ]
  },
  {
   "cell_type": "code",
   "execution_count": null,
   "id": "e4bd57b6",
   "metadata": {},
   "outputs": [],
   "source": [
    "race_df = demo_df[demo_df['code'].str.startswith('Race/')][['patient_id', 'code']]\n",
    "race_df = race_df.rename(columns={'code' : 'race'})\n",
    "label_df = label_df.merge(race_df, on='patient_id', how='left')\n",
    "label_df['race'] = label_df['race'].fillna('Race/0')"
   ]
  },
  {
   "cell_type": "code",
   "execution_count": null,
   "id": "9573c627",
   "metadata": {},
   "outputs": [],
   "source": [
    "ethnicity_df = demo_df[demo_df['code'].str.startswith('Ethnicity/')][['patient_id', 'code']]\n",
    "ethnicity_df = ethnicity_df.rename(columns={'code' : 'ethnicity'})\n",
    "label_df = label_df.merge(ethnicity_df, on='patient_id', how='left')\n",
    "label_df['ethnicity'] = label_df['ethnicity'].fillna('Ethnicity/None')"
   ]
  },
  {
   "cell_type": "code",
   "execution_count": null,
   "id": "a0e30f0e",
   "metadata": {},
   "outputs": [],
   "source": [
    "label_df['race'] = label_df['race'].apply(lambda x: x.split('/', 1)[1])\n",
    "label_df['gender'] = label_df['gender'].apply(lambda x: x.split('/', 1)[1])\n",
    "label_df['ethnicity'] = label_df['ethnicity'].apply(lambda x: x.split('/', 1)[1])"
   ]
  },
  {
   "cell_type": "code",
   "execution_count": null,
   "id": "e9554d10",
   "metadata": {},
   "outputs": [],
   "source": [
    "label_df = label_df.drop(columns=['label_type'])"
   ]
  },
  {
   "cell_type": "code",
   "execution_count": null,
   "id": "cbf56b9c",
   "metadata": {},
   "outputs": [],
   "source": [
    "df['patient_id'].nunique() == len(label_df)"
   ]
  },
  {
   "cell_type": "code",
   "execution_count": null,
   "id": "fec803e6",
   "metadata": {},
   "outputs": [],
   "source": [
    "label_df.to_parquet(f'data/{task_type}/{task_name}_label.parquet')\n",
    "df.to_parquet(f'data/{task_type}/{task_name}.parquet')"
   ]
  },
  {
   "cell_type": "code",
   "execution_count": null,
   "id": "128ea599",
   "metadata": {},
   "outputs": [],
   "source": [
    "for task_name in ['anemia', 'hyperkalemia', 'hypoglycemia', 'hyponatremia', 'thrombocytopenia', 'icu']:\n",
    "    if task_name == 'icu': task_type = f'guo_{task_name}'\n",
    "    else: task_type = f'lab_{task_name}'\n",
    "    demo_df = pd.read_parquet(f'data/{task_type}/{task_name}_demo.parquet')\n",
    "\n",
    "    demo_df['gender_ind'] = pd.factorize(demo_df['gender'])[0]\n",
    "    demo_df['ethnicity_ind'] = pd.factorize(demo_df['ethnicity'])[0]\n",
    "    demo_df['race_ind'] = pd.factorize(demo_df['race'])[0]\n",
    "\n",
    "    demo_df.to_parquet(f'data/{task_type}/{task_name}_demo.parquet')"
   ]
  },
  {
   "cell_type": "markdown",
   "id": "5483da1c",
   "metadata": {},
   "source": [
    "SAMPLE_TIME"
   ]
  },
  {
   "cell_type": "code",
   "execution_count": null,
   "id": "5d212727",
   "metadata": {},
   "outputs": [],
   "source": [
    "TASK = 'hypoglycemia'"
   ]
  },
  {
   "cell_type": "code",
   "execution_count": null,
   "id": "2a0d6629",
   "metadata": {},
   "outputs": [],
   "source": [
    "label_df = pd.read_parquet(f'data/lab_{TASK}/{TASK}_label.parquet')"
   ]
  },
  {
   "cell_type": "code",
   "execution_count": null,
   "id": "3defb5be",
   "metadata": {},
   "outputs": [],
   "source": [
    "df = pd.read_parquet(f'data/lab_{TASK}/{TASK}.parquet')\n",
    "df['start'] = pd.to_datetime(df['start'])\n",
    "df = df.sort_values(['patient_id', 'start'])"
   ]
  },
  {
   "cell_type": "code",
   "execution_count": null,
   "id": "967a52cf",
   "metadata": {},
   "outputs": [],
   "source": [
    "def assign_group_numbers(group):\n",
    "    time_diff = group['start'].diff().fillna(pd.Timedelta(days=0))\n",
    "    new_group = (time_diff >= pd.Timedelta(days=1)).cumsum()\n",
    "    return new_group + 1"
   ]
  },
  {
   "cell_type": "code",
   "execution_count": null,
   "id": "83958397",
   "metadata": {},
   "outputs": [],
   "source": [
    "df['N'] = df.groupby('patient_id', group_keys=False).apply(assign_group_numbers).reset_index(drop=True)"
   ]
  },
  {
   "cell_type": "code",
   "execution_count": null,
   "id": "36eab113",
   "metadata": {},
   "outputs": [],
   "source": [
    "pred_df = df[['patient_id', 'start', 'N']].merge(label_df[['patient_id', 'prediction_time']], on='patient_id')\n",
    "pred_df = pred_df[(pred_df['start'] - pred_df['prediction_time']).abs() < pd.Timedelta(hours=24)]\n",
    "pred_df = pred_df.drop(columns=['start', 'prediction_time']).drop_duplicates()"
   ]
  },
  {
   "cell_type": "code",
   "execution_count": null,
   "id": "d30ec663",
   "metadata": {},
   "outputs": [],
   "source": [
    "label_df = label_df.merge(pred_df.groupby('patient_id').min().reset_index(), on='patient_id')\n",
    "label_df = label_df.rename(columns={'N': 'N_min'})\n",
    "label_df = label_df.merge(pred_df.groupby('patient_id').max().reset_index(), on='patient_id')\n",
    "label_df = label_df.rename(columns={'N': 'N_max'})"
   ]
  },
  {
   "cell_type": "code",
   "execution_count": null,
   "id": "3514b72c",
   "metadata": {},
   "outputs": [],
   "source": [
    "df = df.merge(label_df[['patient_id', 'N_min', 'N_max']], on='patient_id')"
   ]
  },
  {
   "cell_type": "code",
   "execution_count": null,
   "id": "2d5fb9d6",
   "metadata": {},
   "outputs": [],
   "source": [
    "df = df[df['N'] >= df['N_min']]\n",
    "df = df[df['N'] <= df['N_max']]\n",
    "df = df.drop(columns=['N', 'N_min', 'N_max'])"
   ]
  },
  {
   "cell_type": "code",
   "execution_count": null,
   "id": "9c8feaf8",
   "metadata": {},
   "outputs": [],
   "source": [
    "df.to_parquet(f'data/lab_{TASK}/{TASK}.parquet')"
   ]
  },
  {
   "cell_type": "code",
   "execution_count": null,
   "id": "246beeb0",
   "metadata": {},
   "outputs": [],
   "source": [
    "label_df = label_df.drop(columns=['start', 'N_min', 'N_max'])"
   ]
  },
  {
   "cell_type": "code",
   "execution_count": null,
   "id": "6674a793",
   "metadata": {},
   "outputs": [],
   "source": [
    "start_df = df.groupby('patient_id')['start'].min().reset_index()\n",
    "label_df = label_df.merge(start_df, on='patient_id', how='left')"
   ]
  },
  {
   "cell_type": "code",
   "execution_count": null,
   "id": "f958df98",
   "metadata": {},
   "outputs": [],
   "source": [
    "pos_df = label_df[label_df['value']]\n",
    "neg_df = label_df[~label_df['value']]"
   ]
  },
  {
   "cell_type": "code",
   "execution_count": null,
   "id": "09a5c5e1",
   "metadata": {},
   "outputs": [],
   "source": [
    "pos_df = pos_df[(pos_df['prediction_time']  - pos_df['start']) >= pd.Timedelta(hours=1)]"
   ]
  },
  {
   "cell_type": "code",
   "execution_count": null,
   "id": "736d5b2e",
   "metadata": {},
   "outputs": [],
   "source": [
    "neg_df = neg_df.drop(columns=['prediction_time'])"
   ]
  },
  {
   "cell_type": "code",
   "execution_count": null,
   "id": "61c1b026",
   "metadata": {},
   "outputs": [],
   "source": [
    "delta = (pos_df['prediction_time'] - pos_df['start']).dt.total_seconds() / 3600\n",
    "times = delta.sample(n=int(len(neg_df)*1.2), replace=True) + np.random.normal(0, 0.5, int(len(neg_df)*1.2))\n",
    "neg_df['Sample_time'] = [t for t in times if t > 1.5][:len(neg_df)]\n",
    "neg_df['Sample_time'] = neg_df['Sample_time'].apply(lambda x: pd.Timedelta(hours=x)) + neg_df['start']"
   ]
  },
  {
   "cell_type": "code",
   "execution_count": null,
   "id": "c65fea6b",
   "metadata": {},
   "outputs": [],
   "source": [
    "label_df = pd.concat([pos_df, neg_df], ignore_index=True)"
   ]
  },
  {
   "cell_type": "code",
   "execution_count": null,
   "id": "b742dc31",
   "metadata": {},
   "outputs": [],
   "source": [
    "label_df.to_parquet(f'data/lab_{TASK}/{TASK}_label.parquet')"
   ]
  }
 ],
 "metadata": {
  "language_info": {
   "name": "python"
  }
 },
 "nbformat": 4,
 "nbformat_minor": 5
}
