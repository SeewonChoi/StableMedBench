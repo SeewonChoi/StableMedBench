{
 "cells": [
  {
   "cell_type": "code",
   "execution_count": 1,
   "id": "964528be",
   "metadata": {},
   "outputs": [],
   "source": [
    "import os\n",
    "import pandas as pd\n",
    "import numpy as np"
   ]
  },
  {
   "cell_type": "code",
   "execution_count": 2,
   "id": "356da1a2",
   "metadata": {},
   "outputs": [],
   "source": [
    "path = '/home/seewon/mimic3-benchmarks/output'"
   ]
  },
  {
   "cell_type": "markdown",
   "id": "6e7324b9",
   "metadata": {},
   "source": [
    "FIGURE OUT WHAT FILES ARE"
   ]
  },
  {
   "cell_type": "code",
   "execution_count": 5,
   "id": "9b81bb4f",
   "metadata": {},
   "outputs": [],
   "source": [
    "master_df = pd.read_csv('/home/seewon/mimic3-benchmarks/output/master_dataset.csv')"
   ]
  },
  {
   "cell_type": "code",
   "execution_count": null,
   "id": "9da38ebf",
   "metadata": {},
   "outputs": [],
   "source": [
    "df_train = pd.read_csv((os.path.join(path, 'train.csv')))\n",
    "df_test = pd.read_csv((os.path.join(path, 'test.csv')))\n",
    "df = pd.concat([df_train, df_test], ignore_index=True)"
   ]
  },
  {
   "cell_type": "code",
   "execution_count": 33,
   "id": "4f515bdb",
   "metadata": {},
   "outputs": [],
   "source": [
    "diff_cols = list(set(df.columns) - set(master_df.columns))"
   ]
  },
  {
   "cell_type": "code",
   "execution_count": 35,
   "id": "4391c627",
   "metadata": {},
   "outputs": [],
   "source": [
    "master_df = master_df.merge(df[diff_cols + ['stay_id']], on='stay_id', how='outer')"
   ]
  },
  {
   "cell_type": "code",
   "execution_count": 36,
   "id": "685d74e4",
   "metadata": {},
   "outputs": [],
   "source": [
    "master_df.to_csv('/home/seewon/mimic3-benchmarks/output/master_dataset.csv', index=False)"
   ]
  },
  {
   "cell_type": "markdown",
   "id": "b8f4189e",
   "metadata": {},
   "source": [
    "GET ONLY LABELS"
   ]
  },
  {
   "cell_type": "code",
   "execution_count": null,
   "id": "2a6626eb",
   "metadata": {},
   "outputs": [],
   "source": [
    "master_df = pd.read_csv('/home/seewon/mimic3-benchmarks/output/master_dataset.csv')"
   ]
  },
  {
   "cell_type": "code",
   "execution_count": 43,
   "id": "c9ffa897",
   "metadata": {},
   "outputs": [],
   "source": [
    "if 'index' in master_df.columns:\n",
    "    master_df = master_df.drop(columns=['index'])"
   ]
  },
  {
   "cell_type": "code",
   "execution_count": null,
   "id": "b9f83745",
   "metadata": {},
   "outputs": [],
   "source": [
    "ID_COLS = ['subject_id', 'hadm_id', 'stay_id',]\n",
    "DEMO_COLS = ['gender', 'race', 'anchor_age', 'anchor_year', 'age', 'ethnicity',]\n",
    "LABELS_COLS = ['intime', 'outtime', 'outcome_icu_transfer_12h', 'intime_icu', 'time_to_icu_transfer',  'time_to_icu_transfer_hours',]"
   ]
  },
  {
   "cell_type": "code",
   "execution_count": 73,
   "id": "475e0a2c",
   "metadata": {},
   "outputs": [],
   "source": [
    "master_df[ID_COLS + LABELS_COLS].to_csv(os.path.join(path, 'label.csv'), index=False)"
   ]
  },
  {
   "cell_type": "code",
   "execution_count": 75,
   "id": "73883d8b",
   "metadata": {},
   "outputs": [],
   "source": [
    "master_df[ID_COLS + DEMO_COLS].to_csv(os.path.join(path, 'demo.csv'), index=False)"
   ]
  },
  {
   "cell_type": "markdown",
   "id": "705df6dc",
   "metadata": {},
   "source": [
    "CREATE DATASET"
   ]
  },
  {
   "cell_type": "code",
   "execution_count": 84,
   "id": "1fed48f3",
   "metadata": {},
   "outputs": [],
   "source": [
    "path = '/home/seewon/mimic3-benchmarks/data/mimiciv/3.1/ed'"
   ]
  },
  {
   "cell_type": "code",
   "execution_count": 172,
   "id": "6698af31",
   "metadata": {},
   "outputs": [],
   "source": [
    "stays_df = pd.read_csv(os.path.join(path, 'edstays.csv'))\n",
    "vital_df = pd.read_csv(os.path.join(path, 'vitalsign.csv'))\n",
    "triage_df = pd.read_csv(os.path.join(path, 'triage.csv'))\n",
    "med_df = pd.read_csv(os.path.join(path, 'pyxis.csv'))"
   ]
  },
  {
   "cell_type": "code",
   "execution_count": 173,
   "id": "6c8377b4",
   "metadata": {},
   "outputs": [],
   "source": [
    "triage_df = triage_df.merge(stays_df[['stay_id', 'intime']], on='stay_id')\n",
    "triage_df = triage_df.rename(columns={'intime': 'charttime'})"
   ]
  },
  {
   "cell_type": "code",
   "execution_count": 174,
   "id": "9e349b5a",
   "metadata": {},
   "outputs": [],
   "source": [
    "vital_df = pd.concat([triage_df, vital_df]).sort_values(['subject_id', 'charttime'])"
   ]
  },
  {
   "cell_type": "code",
   "execution_count": 176,
   "id": "95e44467",
   "metadata": {},
   "outputs": [],
   "source": [
    "vital_df.to_csv('/home/seewon/mimic3-benchmarks/data/transfer/vital_triage.csv', index=False)"
   ]
  },
  {
   "cell_type": "code",
   "execution_count": 177,
   "id": "8d392976",
   "metadata": {},
   "outputs": [],
   "source": [
    "import networkx as nx\n",
    "\n",
    "med_df['gsn'] = med_df['gsn'].astype(str)\n",
    "med_df['name'] = med_df['name'].astype(str)\n",
    "\n",
    "G = nx.Graph()\n",
    "edges = med_df[['gsn', 'name']].dropna().drop_duplicates().values.tolist()\n",
    "G.add_edges_from(edges)\n",
    "\n",
    "\n",
    "components = list(nx.connected_components(G))\n",
    "node_to_group = {node: i for i, comp in enumerate(components) for node in comp}"
   ]
  },
  {
   "cell_type": "code",
   "execution_count": 178,
   "id": "5aa01623",
   "metadata": {},
   "outputs": [],
   "source": [
    "med_df['group'] = med_df.apply(\n",
    "    lambda row: node_to_group.get(row['gsn']) or node_to_group.get(row['name']),\n",
    "    axis=1\n",
    ")"
   ]
  },
  {
   "cell_type": "code",
   "execution_count": 180,
   "id": "4b22d277",
   "metadata": {},
   "outputs": [],
   "source": [
    "med_df.to_csv('/home/seewon/mimic3-benchmarks/data/transfer/med.csv')"
   ]
  },
  {
   "cell_type": "markdown",
   "id": "7d9565dc",
   "metadata": {},
   "source": [
    "DEMOGRAPHICS"
   ]
  },
  {
   "cell_type": "code",
   "execution_count": 166,
   "id": "5bc86723",
   "metadata": {},
   "outputs": [],
   "source": [
    "demo_df = pd.read_csv(f\"/home/seewon/mimic3-benchmarks/data/transfer/demo.csv\")"
   ]
  },
  {
   "cell_type": "code",
   "execution_count": 167,
   "id": "2620e392",
   "metadata": {},
   "outputs": [],
   "source": [
    "demo_df['gender_ind'] = pd.factorize(demo_df['gender'])[0]\n",
    "demo_df['race_ind'] = pd.factorize(demo_df['race'])[0]"
   ]
  },
  {
   "cell_type": "code",
   "execution_count": 169,
   "id": "d59b3c4e",
   "metadata": {},
   "outputs": [],
   "source": [
    "demo_df.to_csv(\"/home/seewon/mimic3-benchmarks/data/transfer/demo.csv\", index=False)"
   ]
  },
  {
   "cell_type": "markdown",
   "id": "8be6b382",
   "metadata": {},
   "source": [
    "SAMPLE TIME"
   ]
  },
  {
   "cell_type": "code",
   "execution_count": 2,
   "id": "3b46ae79",
   "metadata": {},
   "outputs": [],
   "source": [
    "label_df = pd.read_csv('/home/seewon/mimic3-benchmarks/data/transfer/label.csv')"
   ]
  },
  {
   "cell_type": "code",
   "execution_count": 3,
   "id": "0df3ab5e",
   "metadata": {},
   "outputs": [],
   "source": [
    "label_df = label_df.drop(columns=['Trigger_time', 'Sample_time'])"
   ]
  },
  {
   "cell_type": "code",
   "execution_count": 4,
   "id": "f5c14139",
   "metadata": {},
   "outputs": [],
   "source": [
    "label_df['intime'] = pd.to_datetime(label_df['intime'])\n",
    "label_df['outtime'] = pd.to_datetime(label_df['outtime'])\n",
    "label_df['intime_icu'] = pd.to_datetime(label_df['intime_icu'])"
   ]
  },
  {
   "cell_type": "code",
   "execution_count": 5,
   "id": "6111662b",
   "metadata": {},
   "outputs": [],
   "source": [
    "label_df = label_df[(label_df['outtime'] == label_df['intime_icu']) | label_df['intime_icu'].isna()]"
   ]
  },
  {
   "cell_type": "code",
   "execution_count": 6,
   "id": "544ca585",
   "metadata": {},
   "outputs": [],
   "source": [
    "label_df = label_df.drop(columns=['time_to_icu_transfer', 'time_to_icu_transfer_hours'])"
   ]
  },
  {
   "cell_type": "markdown",
   "id": "3b5e3e05",
   "metadata": {},
   "source": [
    "First, filter to have one example per patient id"
   ]
  },
  {
   "cell_type": "code",
   "execution_count": 7,
   "id": "f96d7ca7",
   "metadata": {},
   "outputs": [],
   "source": [
    "pos_df = label_df[~label_df['intime_icu'].isna()]\n",
    "neg_df = label_df[label_df['intime_icu'].isna()]"
   ]
  },
  {
   "cell_type": "code",
   "execution_count": 28,
   "id": "abd0bfab",
   "metadata": {},
   "outputs": [],
   "source": [
    "pos_df = pos_df.drop_duplicates()\n",
    "neg_df = neg_df.drop_duplicates()"
   ]
  },
  {
   "cell_type": "code",
   "execution_count": null,
   "id": "0ff4ed4b",
   "metadata": {},
   "outputs": [],
   "source": [
    "pos_df = pos_df[pos_df['intime'] == pos_df.groupby('subject_id')['intime'].transform('min')]"
   ]
  },
  {
   "cell_type": "code",
   "execution_count": null,
   "id": "f93c8012",
   "metadata": {},
   "outputs": [],
   "source": [
    "neg_df = neg_df[~neg_df['subject_id'].isin(pos_df['subject_id'])]\n",
    "neg_df = neg_df[neg_df['intime'] == neg_df.groupby('subject_id')['intime'].transform('min')]"
   ]
  },
  {
   "cell_type": "code",
   "execution_count": 48,
   "id": "9341f72b",
   "metadata": {},
   "outputs": [],
   "source": [
    "pos_df['Trigger_time'] = (pos_df['outtime'] - pos_df['intime']).dt.total_seconds() / 3600\n",
    "pos_df = pos_df[pos_df['Trigger_time'] >= 0.5]"
   ]
  },
  {
   "cell_type": "code",
   "execution_count": 71,
   "id": "a1858ff6",
   "metadata": {},
   "outputs": [],
   "source": [
    "deltas = pos_df['Trigger_time'].values\n",
    "times = np.random.choice(deltas, size=int(len(neg_df) * 1.2), replace=True) + np.random.normal(0, 0.5, int(len(neg_df) * 1.2))"
   ]
  },
  {
   "cell_type": "code",
   "execution_count": 72,
   "id": "4a56030b",
   "metadata": {},
   "outputs": [
    {
     "name": "stderr",
     "output_type": "stream",
     "text": [
      "/tmp/ipykernel_1402567/1178699263.py:1: SettingWithCopyWarning: \n",
      "A value is trying to be set on a copy of a slice from a DataFrame.\n",
      "Try using .loc[row_indexer,col_indexer] = value instead\n",
      "\n",
      "See the caveats in the documentation: https://pandas.pydata.org/pandas-docs/stable/user_guide/indexing.html#returning-a-view-versus-a-copy\n",
      "  neg_df['Sample_time'] = [t for t in times if t >= 0.5][:len(neg_df)]\n"
     ]
    }
   ],
   "source": [
    "neg_df['Sample_time'] = [t for t in times if t >= 0.5][:len(neg_df)]"
   ]
  },
  {
   "cell_type": "code",
   "execution_count": null,
   "id": "a2fee2f0",
   "metadata": {},
   "outputs": [],
   "source": [
    "df = pd.concat([pos_df, neg_df], ignore_index=True)\n",
    "df['Time'] = df.apply(lambda x: x['Trigger_time'] if x['outcome_icu_transfer_12h'] else x['Sample_time'], axis=1)"
   ]
  },
  {
   "cell_type": "code",
   "execution_count": 79,
   "id": "65cee2c8",
   "metadata": {},
   "outputs": [],
   "source": [
    "df.to_csv('/home/seewon/mimic3-benchmarks/data/transfer/label.csv', index=False)"
   ]
  },
  {
   "cell_type": "code",
   "execution_count": null,
   "id": "8117677d",
   "metadata": {},
   "outputs": [],
   "source": [
    "import matplotlib.pyplot as plt\n",
    "\n",
    "# Plot histograms normalized to fraction\n",
    "ax = pos_df['Trigger_time'].plot(\n",
    "    kind='hist', bins=1000, alpha=0.5, label='Trigger_time', density=True, figsize=(10, 6)\n",
    ")\n",
    "neg_df['Sample_time'].plot(\n",
    "    kind='hist', bins=1000, alpha=0.5, label='Sample_time', density=True, ax=ax\n",
    ")\n",
    "\n",
    "# Labels and legend\n",
    "ax.set_xlabel('Time (hours)')\n",
    "ax.set_ylabel('Fraction')\n",
    "ax.set_title('Normalized Distribution of Trigger_time and Sample_time')\n",
    "ax.legend()\n",
    "ax.set_xlim(0, 100)"
   ]
  },
  {
   "cell_type": "markdown",
   "id": "f26203af",
   "metadata": {},
   "source": [
    "STRING VALUES"
   ]
  },
  {
   "cell_type": "code",
   "execution_count": 2,
   "id": "6587fcf5",
   "metadata": {},
   "outputs": [],
   "source": [
    "df = pd.read_csv('/home/seewon/mimic3-benchmarks/data/transfer/vital_triage.csv')"
   ]
  },
  {
   "cell_type": "code",
   "execution_count": null,
   "id": "2de45db6",
   "metadata": {},
   "outputs": [],
   "source": [
    "df = df[['stay_id', 'pain', 'chiefcomplaint', 'rhythm', 'charttime']]"
   ]
  },
  {
   "cell_type": "code",
   "execution_count": null,
   "id": "03c3102f",
   "metadata": {},
   "outputs": [],
   "source": [
    "df['pain'] = pd.to_numeric(df['pain'], 'coerce')"
   ]
  },
  {
   "cell_type": "code",
   "execution_count": 16,
   "id": "b1e12d4b",
   "metadata": {},
   "outputs": [],
   "source": [
    "df.to_csv('/home/seewon/mimic3-benchmarks/data/transfer/vitals.csv')"
   ]
  },
  {
   "cell_type": "code",
   "execution_count": 47,
   "id": "52afe8ae",
   "metadata": {},
   "outputs": [],
   "source": [
    "numerics = pd.read_csv('/home/seewon/mimic3-benchmarks/data/transfer/numerics.csv')"
   ]
  },
  {
   "cell_type": "code",
   "execution_count": null,
   "id": "ca2c8d32",
   "metadata": {},
   "outputs": [],
   "source": [
    "numerics = df[['stay_id', 'temperature', 'heartrate', 'resprate', 'o2sat', 'sbp', 'dbp', 'acuity', 'charttime']]"
   ]
  },
  {
   "cell_type": "code",
   "execution_count": 56,
   "id": "385ca74a",
   "metadata": {},
   "outputs": [],
   "source": [
    "numerics = numerics.merge(df[['stay_id', 'pain', 'charttime']], on=['stay_id', 'charttime'], how='outer')"
   ]
  },
  {
   "cell_type": "code",
   "execution_count": 57,
   "id": "52c471ab",
   "metadata": {},
   "outputs": [],
   "source": [
    "numerics.to_csv('/home/seewon/mimic3-benchmarks/data/transfer/numerics.csv', index=False)"
   ]
  }
 ],
 "metadata": {
  "kernelspec": {
   "display_name": "TA",
   "language": "python",
   "name": "python3"
  },
  "language_info": {
   "codemirror_mode": {
    "name": "ipython",
    "version": 3
   },
   "file_extension": ".py",
   "mimetype": "text/x-python",
   "name": "python",
   "nbconvert_exporter": "python",
   "pygments_lexer": "ipython3",
   "version": "3.10.11"
  }
 },
 "nbformat": 4,
 "nbformat_minor": 5
}
