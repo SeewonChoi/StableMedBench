{
 "cells": [
  {
   "cell_type": "code",
   "execution_count": null,
   "id": "c2ea5072",
   "metadata": {},
   "outputs": [],
   "source": [
    "import pandas as pd\n",
    "import os\n",
    "import numpy as np"
   ]
  },
  {
   "cell_type": "code",
   "execution_count": null,
   "id": "421b99c4",
   "metadata": {},
   "outputs": [],
   "source": [
    "DATA_DIR = 'data/raw_data'"
   ]
  },
  {
   "cell_type": "markdown",
   "id": "253cc578",
   "metadata": {},
   "source": [
    "LABELS"
   ]
  },
  {
   "cell_type": "code",
   "execution_count": null,
   "id": "98da4c7d",
   "metadata": {},
   "outputs": [],
   "source": [
    "mortality = pd.read_csv('data/mortality_labels.csv')\n",
    "mortality['patient_id'] = pd.to_numeric(mortality['stay'].apply(lambda x: x.split('_')[0]))"
   ]
  },
  {
   "cell_type": "code",
   "execution_count": null,
   "id": "7a0cae41",
   "metadata": {},
   "outputs": [],
   "source": [
    "mortality = mortality.drop(columns=['patient_id'])"
   ]
  },
  {
   "cell_type": "code",
   "execution_count": null,
   "id": "05a6a5ce",
   "metadata": {},
   "outputs": [],
   "source": [
    "mortality['subject_id'] = pd.to_numeric(mortality['stay'].apply(lambda x: x.split('_', 1)[0]))\n",
    "mortality['episode'] = pd.to_numeric(mortality['stay'].apply(lambda x: x.split('_', 2)[1][7:]))"
   ]
  },
  {
   "cell_type": "code",
   "execution_count": null,
   "id": "aba9279c",
   "metadata": {},
   "outputs": [],
   "source": [
    "new_morality = None"
   ]
  },
  {
   "cell_type": "code",
   "execution_count": null,
   "id": "ea7b1813",
   "metadata": {},
   "outputs": [],
   "source": [
    "for i in range(0, 7):\n",
    "    visits_df = pd.read_parquet(os.path.join(DATA_DIR, f'visits_{i}.parquet'))\n",
    "    visits_df = visits_df.sort_values(['subject_id', 'intime'])\n",
    "    visits_df['episode'] = (\n",
    "        visits_df[visits_df['intime'].notna()]\n",
    "        .sort_values(['subject_id', 'intime'])\n",
    "        .groupby('subject_id')\n",
    "        .cumcount() + 1\n",
    "    )\n",
    "    visits_df.to_parquet(os.path.join(DATA_DIR, f'visits_{i}.parquet'))\n",
    "    mortality_i = mortality.merge(visits_df, on=['subject_id', 'episode'])\n",
    "\n",
    "    if new_morality is None:\n",
    "        new_morality = mortality_i\n",
    "    else:\n",
    "        new_morality = pd.concat([new_morality, mortality_i])"
   ]
  },
  {
   "cell_type": "code",
   "execution_count": null,
   "id": "f825ada3",
   "metadata": {},
   "outputs": [],
   "source": [
    "new_morality = new_morality[['subject_id', 'hadm_id', 'stay_id', 'episode', 'y_true', 'intime', 'outtime', 'deathtime']]"
   ]
  },
  {
   "cell_type": "code",
   "execution_count": null,
   "id": "eaedb4dc",
   "metadata": {},
   "outputs": [],
   "source": [
    "new_morality.to_csv('data/mortality_labels.csv', index=False)"
   ]
  },
  {
   "cell_type": "markdown",
   "id": "4fdca132",
   "metadata": {},
   "source": [
    "DEMOGRAPHICS"
   ]
  },
  {
   "cell_type": "code",
   "execution_count": null,
   "id": "0abfbe77",
   "metadata": {},
   "outputs": [],
   "source": [
    "test_df = pd.read_parquet('data/test_demo.parquet')\n",
    "train_df = pd.read_parquet('data/train_demo.parquet')"
   ]
  },
  {
   "cell_type": "code",
   "execution_count": null,
   "id": "87aacebf",
   "metadata": {},
   "outputs": [],
   "source": [
    "df = pd.concat([train_df, test_df])"
   ]
  },
  {
   "cell_type": "code",
   "execution_count": null,
   "id": "aabea275",
   "metadata": {},
   "outputs": [],
   "source": [
    "df.to_parquet('data/demographics.parquet')"
   ]
  },
  {
   "cell_type": "markdown",
   "id": "beeec599",
   "metadata": {},
   "source": []
  },
  {
   "cell_type": "code",
   "execution_count": null,
   "id": "f198dd37",
   "metadata": {},
   "outputs": [],
   "source": [
    "COLS = {\n",
    "    'chartevents': ('subject_id', 'hadm_id', 'stay_id', 'charttime', 'itemid', 'valuenum'),\n",
    "    'inputevents': ('subject_id', 'hadm_id', 'stay_id', 'starttime', 'itemid', 'amount'),\n",
    "    'outputevents': ('subject_id', 'hadm_id', 'stay_id', 'charttime', 'itemid', 'value'),\n",
    "    'procedureevents': ('subject_id', 'hadm_id', 'stay_id', 'starttime', 'itemid', 'value'),\n",
    "    'labevents': ('subject_id', 'hadm_id', 'charttime', 'itemid', 'valuenum'),\n",
    "    'pharmacy': ('subject_id', 'hadm_id', 'starttime', 'medication'),\n",
    "    'emar': ('subject_id', 'hadm_id', 'charttime', 'medication'),\n",
    "}\n"
   ]
  },
  {
   "cell_type": "code",
   "execution_count": null,
   "id": "3da7a02c",
   "metadata": {},
   "outputs": [],
   "source": [
    "def read_lab(task, i):\n",
    "    col = COLS[task]\n",
    "    df = pd.read_parquet(f'data/raw_data/{task}_{i}.parquet', columns=col)\n",
    "\n",
    "    if not 'stay_id' in df.columns:\n",
    "        df['stay_id'] = None\n",
    "    \n",
    "    if 'starttime' in df.columns:\n",
    "        df = df.rename(columns={'starttime': 'time'})\n",
    "    elif 'charttime' in df.columns:\n",
    "        df = df.rename(columns={'charttime': 'time'})\n",
    "    \n",
    "    if 'medication' in df.columns:\n",
    "        df = df.rename(columns={'medication': 'itemid'})\n",
    "    \n",
    "    if 'amount' in df.columns:\n",
    "        df = df.rename(columns={'amount': 'value'})\n",
    "    elif 'valuenum' in df.columns:\n",
    "        df = df.rename(columns={'valuenum': 'value'})\n",
    "    return df\n"
   ]
  },
  {
   "cell_type": "code",
   "execution_count": null,
   "id": "50cfaa37",
   "metadata": {},
   "outputs": [],
   "source": [
    "label_df = pd.read_csv('data/mortality_labels.csv')"
   ]
  },
  {
   "cell_type": "code",
   "execution_count": null,
   "id": "740f69f5",
   "metadata": {},
   "outputs": [],
   "source": [
    "for i in range(1, 7):\n",
    "    visits_df = pd.read_parquet(f'data/raw_data/visits_{i}.parquet')\n",
    "    visits_df = visits_df[visits_df['subject_id'].isin(label_df['subject_id'])]\n",
    "    ids = visits_df['subject_id'].unique()\n",
    "\n",
    "    chart_df = read_lab('chartevents', i)\n",
    "    emar_df = read_lab('emar', i)\n",
    "    input_df = read_lab('inputevents', i)\n",
    "    output_df = read_lab('outputevents', i)\n",
    "    lab_df = read_lab('labevents', i)\n",
    "    pharmacy_df = read_lab('pharmacy', i)\n",
    "    procedure_df = read_lab('procedureevents', i)\n",
    "\n",
    "    for j in range(10):\n",
    "        df_final = None\n",
    "        ids_j = ids[1000*j:1000*(j+1)]\n",
    "        for id in ids_j:\n",
    "            print(id)\n",
    "            label_i = label_df[label_df['subject_id'] == id].iloc[0]\n",
    "            label_time = label_i['outtime']\n",
    "\n",
    "            chart_i = chart_df[chart_df['subject_id'] == id]\n",
    "            emar_i = emar_df[emar_df['subject_id'] == id]\n",
    "            input_i = input_df[input_df['subject_id'] == id]\n",
    "            output_i = output_df[output_df['subject_id'] == id]\n",
    "            lab_i = lab_df[lab_df['subject_id'] == id]\n",
    "            pharmacy_i = pharmacy_df[pharmacy_df['subject_id'] == id]\n",
    "            procedure_i = procedure_df[procedure_df['subject_id'] == id]\n",
    "\n",
    "            df_i = pd.concat([chart_i, emar_i, input_i, output_i, lab_i, pharmacy_i, procedure_i])\n",
    "            df_i = df_i[df_i['time'] < label_time]\n",
    "            df_i = df_i.sort_values('time')\n",
    "\n",
    "            df_i['itemid'] = df_i['itemid'].astype(str)\n",
    "            \n",
    "            if df_final is None:\n",
    "                df_final = df_i\n",
    "            else:\n",
    "                df_final = pd.concat([df_final, df_i], ignore_index=True)\n",
    "        \n",
    "        if not df_final is None:\n",
    "            df_final.to_parquet(f'data/mortality/{i}_{j}_final.parquet')"
   ]
  },
  {
   "cell_type": "markdown",
   "id": "d12c374f",
   "metadata": {},
   "source": [
    "DATA STATISTICS"
   ]
  },
  {
   "cell_type": "code",
   "execution_count": null,
   "id": "12595651",
   "metadata": {},
   "outputs": [],
   "source": [
    "import matplotlib.pyplot as plt"
   ]
  },
  {
   "cell_type": "code",
   "execution_count": null,
   "id": "09cb6779",
   "metadata": {},
   "outputs": [],
   "source": [
    "df = pd.read_csv('data/mortality/mortality_labels.csv')\n"
   ]
  },
  {
   "cell_type": "code",
   "execution_count": null,
   "id": "d8554a89",
   "metadata": {},
   "outputs": [],
   "source": [
    "# Assuming your dataframe is named df and intime/outtime are datetime types\n",
    "df['intime'] = pd.to_datetime(df['intime'])\n",
    "df['outtime'] = pd.to_datetime(df['outtime'])\n",
    "df['deathtime'] = pd.to_datetime(df['deathtime'])\n",
    "df['duration'] = (df['outtime'] - df['intime']).dt.total_seconds() / 60 \n",
    "df['duration2'] = (df['deathtime'] - df['intime']).dt.total_seconds() / 60  # duration in minutes\n",
    "\n",
    "# Plot\n",
    "plt.figure(figsize=(10, 6))\n",
    "for label, group in df.groupby('y_true'):\n",
    "    if label == 1:\n",
    "        plt.hist(group['duration2'], bins=50, alpha=0.5, label=f'Label {label}', density=True)\n",
    "        # plt.hist(group['duration'], bins=50, alpha=0.5, label=f'Label {label}', density=True)\n",
    "    else:\n",
    "        plt.hist(group['duration'], bins=50, alpha=0.5, label=f'Label {label}', density=True)\n",
    "\n",
    "plt.xlabel('Duration (minutes)')\n",
    "plt.ylabel('Density')\n",
    "plt.title('Duration Distribution by Label')\n",
    "plt.legend()\n",
    "plt.grid(True)\n",
    "plt.show()\n"
   ]
  }
 ],
 "metadata": {
  "language_info": {
   "name": "python"
  }
 },
 "nbformat": 4,
 "nbformat_minor": 5
}
