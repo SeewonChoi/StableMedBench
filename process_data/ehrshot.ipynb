{
 "cells": [
  {
   "cell_type": "markdown",
   "id": "72cf61ae",
   "metadata": {},
   "source": [
    "BREAKDOWN EHRSHOT CSV"
   ]
  },
  {
   "cell_type": "code",
   "execution_count": null,
   "id": "6896991c",
   "metadata": {},
   "outputs": [],
   "source": [
    "import csv\n",
    "\n",
    "def split_csv_by_rows(input_file, rows_per_file):\n",
    "    with open(input_file, 'r', newline='', encoding='utf-8') as infile:\n",
    "        reader = csv.reader(infile)\n",
    "        header = next(reader)  # read the header\n",
    "\n",
    "        file_count = 1\n",
    "        rows = []\n",
    "\n",
    "        for i, row in enumerate(reader, start=1):\n",
    "            rows.append(row)\n",
    "            if i % rows_per_file == 0:\n",
    "                output_file = f'/project/ClinicalAI/working_data/seewon/ehrshot-benchmark/EHRSHOT_ASSETS/data/output_{file_count}.csv'\n",
    "                with open(output_file, 'w', newline='', encoding='utf-8') as outfile:\n",
    "                    writer = csv.writer(outfile)\n",
    "                    writer.writerow(header)\n",
    "                    writer.writerows(rows)\n",
    "                print(f'Written {output_file}')\n",
    "                rows = []\n",
    "                file_count += 1\n",
    "\n",
    "        # Write any remaining rows\n",
    "        if rows:\n",
    "            output_file = f'/project/ClinicalAI/working_data/seewon/ehrshot-benchmark/EHRSHOT_ASSETS/data/output_{file_count}.csv'\n",
    "            with open(output_file, 'w', newline='', encoding='utf-8') as outfile:\n",
    "                writer = csv.writer(outfile)\n",
    "                writer.writerow(header)\n",
    "                writer.writerows(rows)\n",
    "            print(f'Written {output_file}')"
   ]
  },
  {
   "cell_type": "code",
   "execution_count": null,
   "id": "37fe64ea",
   "metadata": {},
   "outputs": [],
   "source": [
    "CHUNK_SIZE = 1000000"
   ]
  },
  {
   "cell_type": "code",
   "execution_count": null,
   "id": "d8c2a672",
   "metadata": {},
   "outputs": [],
   "source": [
    "split_csv_by_rows('/project/ClinicalAI/working_data/seewon/ehrshot-benchmark/EHRSHOT_ASSETS/data/ehrshot.csv', CHUNK_SIZE)"
   ]
  },
  {
   "cell_type": "code",
   "execution_count": null,
   "id": "c742e05d",
   "metadata": {},
   "outputs": [],
   "source": [
    "for i in range(0, 34):\n",
    "    fname = f'/project/ClinicalAI/working_data/seewon/ehrshot-benchmark/EHRSHOT_ASSETS/data/output_{i}.csv'\n",
    "    df = pd.read_csv(fname)\n",
    "    df = df.sort_values(['patient_id', 'start'])\n",
    "    df.to_parquet(fname[:-4]+'.parquet', index=False)"
   ]
  },
  {
   "cell_type": "code",
   "execution_count": null,
   "id": "aecfee06",
   "metadata": {},
   "outputs": [],
   "source": [
    "N = 200\n",
    "pat_ids = []\n",
    "for i in range(0, 35):\n",
    "    start = i*N\n",
    "    end = min((i+1)*N, 6739)\n",
    "    pat_id = pat_ids[start:end]\n",
    "\n",
    "    df_i = None\n",
    "    for j in range(1, 43):\n",
    "        fname = f'/project/ClinicalAI/working_data/seewon/ehrshot-benchmark/EHRSHOT_ASSETS/data/output_{j}.csv'\n",
    "        df = pd.read_csv(fname)\n",
    "        df = df[df['patient_id'].isin(pat_id)]\n",
    "        if df_i is None:\n",
    "            df_i = df\n",
    "        else:\n",
    "            df_i = pd.concat([df_i, df])\n",
    "    df_i.to_csv(f'data/output_{i}.csv')"
   ]
  }
 ],
 "metadata": {
  "language_info": {
   "name": "python"
  }
 },
 "nbformat": 4,
 "nbformat_minor": 5
}
