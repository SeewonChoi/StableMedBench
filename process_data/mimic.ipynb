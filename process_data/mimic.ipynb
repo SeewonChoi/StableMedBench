{
 "cells": [
  {
   "cell_type": "code",
   "execution_count": null,
   "id": "9c9477d9",
   "metadata": {},
   "outputs": [],
   "source": [
    "import pandas as pd\n",
    "import os"
   ]
  },
  {
   "cell_type": "code",
   "execution_count": null,
   "id": "b8773d17",
   "metadata": {},
   "outputs": [],
   "source": [
    "DATA_DIR = '/home/seewon/mimic3-benchmarks/data/mimiciv/3.1'\n",
    "TASK_DIR = '/home/seewon/mimic3-benchmarks/data'\n",
    "LABEL_COLS = ['Acute and unspecified renal failure', 'Cardiac dysrhythmias']"
   ]
  },
  {
   "cell_type": "code",
   "execution_count": null,
   "id": "94578b17",
   "metadata": {},
   "outputs": [],
   "source": [
    "ADM = ['subject_id', 'hadm_id', 'edregtime', 'edouttime', 'admittime', 'dischtime', 'deathtime',]\n",
    "PAT = ['subject_id', 'anchor_year', 'dod']\n",
    "PROC_ICD = ['subject_id', 'hadm_id', 'seq_num', 'chartdate', 'icd_code', 'icd_version']\n",
    "PHARM = ['subject_id', 'hadm_id', 'poe_id', 'starttime', 'stoptime', 'medication']\n",
    "EMAR = ['subject_id', 'hadm_id', 'emar_id', 'emar_seq', 'poe_id', 'charttime', 'medication']\n",
    "LAB = ['labevent_id', 'subject_id', 'hadm_id', 'specimen_id', 'itemid',\n",
    "       'charttime',  'value', 'valuenum', 'ref_range_lower', 'ref_range_upper', 'flag']"
   ]
  },
  {
   "cell_type": "code",
   "execution_count": null,
   "id": "9d603178",
   "metadata": {},
   "outputs": [],
   "source": [
    "STAY = ['subject_id', 'hadm_id', 'stay_id', 'intime', 'outtime']\n",
    "CHART = ['subject_id', 'hadm_id', 'stay_id', 'charttime', 'itemid', 'value', 'valuenum', 'warning']\n",
    "INPUT = ['subject_id', 'hadm_id', 'stay_id', 'starttime', 'endtime', 'itemid', 'amount',  \n",
    "         'rate', 'patientweight', 'totalamount', 'originalamount', 'originalrate']\n",
    "OUTPUT = ['subject_id', 'hadm_id', 'stay_id', 'charttime', 'itemid', 'value']\n",
    "PROC = ['subject_id', 'hadm_id', 'stay_id', 'starttime', 'endtime', \n",
    "            'itemid', 'value', 'patientweight', 'originalamount', 'originalrate']"
   ]
  },
  {
   "cell_type": "code",
   "execution_count": null,
   "id": "1663fd2f",
   "metadata": {},
   "outputs": [],
   "source": [
    "CHUNK_SIZE = 1_000_000"
   ]
  },
  {
   "cell_type": "code",
   "execution_count": null,
   "id": "137c7a14",
   "metadata": {},
   "outputs": [],
   "source": [
    "def ids():\n",
    "    label_df3 = pd.read_csv(os.path.join(TASK_DIR, 'in-hospital-mortality', 'test/listfile.csv'), usecols=['stay'])\n",
    "    label_df4 = pd.read_csv(os.path.join(TASK_DIR, 'in-hospital-mortality', 'train/listfile.csv'), usecols=['stay'])\n",
    "\n",
    "    label_ids = []\n",
    "    label_ids += list(pd.to_numeric(label_df3['stay'].apply(lambda x: x.split('_', 1)[0])).unique())\n",
    "    label_ids += list(pd.to_numeric(label_df4['stay'].apply(lambda x: x.split('_', 1)[0])).unique())\n",
    "    \n",
    "    label_ids = list(set(label_ids))\n",
    "    return label_ids\n"
   ]
  },
  {
   "cell_type": "code",
   "execution_count": null,
   "id": "5ffa33ff",
   "metadata": {},
   "outputs": [],
   "source": [
    "def get_csv(folder, fname, cols, label_ids):\n",
    "    print(fname)\n",
    "    filtered_chunks = []\n",
    "\n",
    "    for chunk in pd.read_csv(os.path.join(DATA_DIR, folder, f'{fname}.csv'), usecols=cols, chunksize=CHUNK_SIZE):\n",
    "        filtered_chunk = chunk[chunk['subject_id'].isin(label_ids)]\n",
    "        filtered_chunks.append(filtered_chunk)\n",
    "\n",
    "    df = pd.concat(filtered_chunks, ignore_index=True)\n",
    "    return df"
   ]
  },
  {
   "cell_type": "code",
   "execution_count": null,
   "id": "e0dc863b",
   "metadata": {},
   "outputs": [],
   "source": [
    "all_ids = ids()\n",
    "for i in range(7):\n",
    "    print(f\"{i}\")\n",
    "    label_ids = pd.read_parquet(f'data/raw_data/visits_{i}.parquet')['subject_id']\n",
    "\n",
    "    folders = ['meta']*7\n",
    "    fnames = ['emar', 'labevents',  'pharmacy', \n",
    "              'chartevents', 'inputevents', 'outputevents', 'procedureevents']\n",
    "    # 'admissions', 'patients','icustays',\n",
    "    cols = [EMAR, LAB, PHARM, CHART, INPUT, OUTPUT, PROC]\n",
    "\n",
    "    for folder, fname, col in zip(folders, fnames, cols):\n",
    "        df = get_csv(folder, fname, col, label_ids)\n",
    "        df.to_parquet(f\"data/raw_data/{fname}_{i}.parquet\", index=False)"
   ]
  }
 ],
 "metadata": {
  "kernelspec": {
   "display_name": "ised",
   "language": "python",
   "name": "python3"
  },
  "language_info": {
   "name": "python",
   "version": "3.9.7"
  }
 },
 "nbformat": 4,
 "nbformat_minor": 5
}
