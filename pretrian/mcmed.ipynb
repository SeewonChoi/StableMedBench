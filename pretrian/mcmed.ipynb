{
 "cells": [
  {
   "cell_type": "code",
   "execution_count": 27,
   "metadata": {},
   "outputs": [],
   "source": [
    "import pandas as pd\n",
    "import os\n",
    "import matplotlib.pyplot as plt\n",
    "import numpy as np\n",
    "import pickle"
   ]
  },
  {
   "cell_type": "code",
   "execution_count": 28,
   "metadata": {},
   "outputs": [],
   "source": [
    "DATA_DIR = '/home/mkeoliya/projects/mc-med/mc-med-1.0.0/data'"
   ]
  },
  {
   "cell_type": "code",
   "execution_count": 3,
   "metadata": {},
   "outputs": [],
   "source": [
    "visits_df = pd.read_csv(os.path.join(DATA_DIR, 'visits.csv'), usecols=['MRN', 'CSN', 'Arrival_time', 'Departure_time', 'Age', 'Gender', 'Race', 'Ethnicity'])"
   ]
  },
  {
   "cell_type": "code",
   "execution_count": 5,
   "metadata": {},
   "outputs": [],
   "source": [
    "history_df = pd.read_csv(os.path.join(DATA_DIR, 'pmh.csv'))"
   ]
  },
  {
   "cell_type": "code",
   "execution_count": null,
   "metadata": {},
   "outputs": [],
   "source": [
    "history_visits = visits_df[['MRN', 'CSN', 'Arrival_time', 'Departure_time']]\n",
    "history_visits = history_df.merge(history_visits, on='MRN', how='left')"
   ]
  },
  {
   "cell_type": "code",
   "execution_count": null,
   "metadata": {},
   "outputs": [],
   "source": [
    "labs_df = pd.read_csv(os.path.join(DATA_DIR, 'labs.csv'))\n",
    "vitals_df = pd.read_csv(os.path.join(DATA_DIR, 'numerics.csv'))\n",
    "orders_df = pd.read_csv(os.path.join(DATA_DIR, 'orders.csv'))\n",
    "rads_df = pd.read_csv(os.path.join(DATA_DIR, 'rads.csv'))"
   ]
  },
  {
   "cell_type": "code",
   "execution_count": null,
   "metadata": {},
   "outputs": [],
   "source": [
    "labs_count = labs_df.groupby('CSN')['Component_name'].count().reset_index(name='Count')\n",
    "vitals_count = vitals_df.groupby('CSN')['Measure'].count().reset_index(name='Count')\n",
    "orders_count = orders_df.groupby('CSN')['Procedure_name'].count().reset_index(name='Count')\n",
    "rads_count = rads_df.groupby('CSN')['Study'].count().reset_index(name='Count')"
   ]
  },
  {
   "cell_type": "markdown",
   "metadata": {},
   "source": [
    "QUANTILES"
   ]
  },
  {
   "cell_type": "code",
   "execution_count": 31,
   "metadata": {},
   "outputs": [],
   "source": [
    "df = pd.read_parquet(\"../data/eventval.parquet\")"
   ]
  },
  {
   "cell_type": "code",
   "execution_count": 21,
   "metadata": {},
   "outputs": [],
   "source": [
    "from tokenizers import Tokenizer, models\n",
    "\n",
    "vocab_list = list(set().union(*df['eventval']))\n",
    "special_list = ['[UNK]', '[BOS]', '[EOS]', '[SEP]', '[PAD]', '[CLS]', '[MASK]']\n",
    "vocab_list = special_list + vocab_list\n",
    "\n",
    "vocab = {token: idx for idx, token in enumerate(vocab_list)}\n",
    "\n",
    "# Create a WordLevel tokenizer with the custom vocab and an unknown token\n",
    "tokenizer = Tokenizer(models.WordLevel(vocab=vocab, unk_token=\"[UNK]\"))\n",
    "\n",
    "tokenizer.save(os.path.join('../data', f'eventval_tokenizer.json'))"
   ]
  },
  {
   "cell_type": "code",
   "execution_count": 3,
   "metadata": {},
   "outputs": [],
   "source": [
    "def try_parse_float(x):\n",
    "    if isinstance(x, str):\n",
    "        try:\n",
    "            x = x.lstrip('<>=').strip()\n",
    "            x = x.replace(',', ':')\n",
    "            if ':' in x:\n",
    "                try:\n",
    "                    num, denom = x.split(':')\n",
    "                    return float(num) / float(denom)\n",
    "                except (ValueError, ZeroDivisionError):\n",
    "                    return x\n",
    "            return float(x)\n",
    "        except ValueError:\n",
    "            return x\n",
    "    return x"
   ]
  },
  {
   "cell_type": "code",
   "execution_count": 4,
   "metadata": {},
   "outputs": [],
   "source": [
    "labs_df = pd.read_csv(os.path.join(DATA_DIR, 'labs.csv'), usecols=['CSN', 'Component_name', 'Component_value'])\n",
    "labs_df = labs_df.dropna()\n",
    "labs_df['Component_value'] = labs_df['Component_value'].apply(try_parse_float)\n",
    "labs_df['Component_value'] = labs_df['Component_value'].apply(lambda x: 0.0 if isinstance(x, str) and 'pos' in x.lower() else x)\n",
    "labs_df['Component_value'] = labs_df['Component_value'].apply(lambda x: 1.0 if isinstance(x, str) and (any(sub in x.lower() for sub in ['neg', 'not', 'none', 'auto'])) else x)"
   ]
  },
  {
   "cell_type": "code",
   "execution_count": 6,
   "metadata": {},
   "outputs": [],
   "source": [
    "scale = 10_000  # for 4 decimal places"
   ]
  },
  {
   "cell_type": "code",
   "execution_count": 7,
   "metadata": {},
   "outputs": [],
   "source": [
    "labs = {}\n",
    "lab_names = labs_df['Component_name'].unique()\n",
    "\n",
    "for l in lab_names:\n",
    "    df = labs_df[labs_df['Component_name'] == l]\n",
    "    bucket = np.percentile(df['Component_value'], np.arange(0, 110, 10))\n",
    "    bucket = np.array([\n",
    "            np.floor(bucket[0] * scale) / scale,             # floor first\n",
    "            *np.round(bucket[1:-1] * scale) / scale,         # round middle\n",
    "            np.ceil(bucket[-1] * scale) / scale              # ceil last\n",
    "        ])\n",
    "    labs[l] = bucket[np.concatenate(([True], bucket[1:] != bucket[:-1]))]"
   ]
  },
  {
   "cell_type": "code",
   "execution_count": 8,
   "metadata": {},
   "outputs": [],
   "source": [
    "numerics_df = pd.read_csv(os.path.join(DATA_DIR, 'numerics.csv'), usecols=['CSN', 'Measure', 'Value'])\n",
    "numerics_df = numerics_df.dropna()"
   ]
  },
  {
   "cell_type": "code",
   "execution_count": 9,
   "metadata": {},
   "outputs": [],
   "source": [
    "numerics = {}\n",
    "numerics_names = numerics_df['Measure'].unique()\n",
    "\n",
    "for n in numerics_names:\n",
    "    df = numerics_df[numerics_df['Measure'] == n]\n",
    "    bucket = np.percentile(df['Value'], np.arange(0, 110, 10))\n",
    "    bucket = np.array([\n",
    "            np.floor(bucket[0] * scale) / scale,             # floor first\n",
    "            *np.round(bucket[1:-1] * scale) / scale,         # round middle\n",
    "            np.ceil(bucket[-1] * scale) / scale              # ceil last\n",
    "        ])\n",
    "    numerics[n] = bucket[np.concatenate(([True], bucket[1:] != bucket[:-1]))]"
   ]
  },
  {
   "cell_type": "code",
   "execution_count": 11,
   "metadata": {},
   "outputs": [],
   "source": [
    "with open('labs_buckets.pkl', 'wb') as f:\n",
    "    pickle.dump(labs, f)\n",
    "\n",
    "with open('numerics_buckets.pkl', 'wb') as f:\n",
    "    pickle.dump(numerics, f)"
   ]
  },
  {
   "cell_type": "markdown",
   "metadata": {},
   "source": [
    "DATA COUNT"
   ]
  },
  {
   "cell_type": "code",
   "execution_count": 5,
   "metadata": {},
   "outputs": [],
   "source": [
    "N = 5"
   ]
  },
  {
   "cell_type": "code",
   "execution_count": 6,
   "metadata": {},
   "outputs": [],
   "source": [
    "counts = pd.concat([labs_count, vitals_count, orders_count, rads_count])\n",
    "counts = counts.groupby('CSN').sum().reset_index().sort_values('Count')\n",
    "counts = counts[counts['Count'] > N]"
   ]
  },
  {
   "cell_type": "code",
   "execution_count": 9,
   "metadata": {},
   "outputs": [],
   "source": [
    "counts['values'] = (counts['Count']/10).round().astype(int)"
   ]
  },
  {
   "cell_type": "code",
   "execution_count": 23,
   "metadata": {},
   "outputs": [
    {
     "data": {
      "text/plain": [
       "0.5392619812146917"
      ]
     },
     "execution_count": 23,
     "metadata": {},
     "output_type": "execute_result"
    }
   ],
   "source": [
    "(counts['values'] < 40).sum() / len(counts)"
   ]
  },
  {
   "cell_type": "code",
   "execution_count": 15,
   "metadata": {},
   "outputs": [
    {
     "data": {
      "image/png": "[encoded data removed]",
      "text/plain": [
       "<Figure size 1000x400 with 1 Axes>"
      ]
     },
     "metadata": {},
     "output_type": "display_data"
    }
   ],
   "source": [
    "plt.figure(figsize=(10, 4))\n",
    "plt.hist(counts['values'], bins=range(counts['values'].min(), counts['values'].max() + 2), align='left')\n",
    "plt.xlabel('Events')\n",
    "plt.ylabel('Frequency (Total: 116474)')\n",
    "plt.grid(True, linestyle='--')\n",
    "plt.show()"
   ]
  }
 ],
 "metadata": {
  "kernelspec": {
   "display_name": "arpah",
   "language": "python",
   "name": "python3"
  },
  "language_info": {
   "codemirror_mode": {
    "name": "ipython",
    "version": 3
   },
   "file_extension": ".py",
   "mimetype": "text/x-python",
   "name": "python",
   "nbconvert_exporter": "python",
   "pygments_lexer": "ipython3",
   "version": "3.11.1"
  }
 },
 "nbformat": 4,
 "nbformat_minor": 2
}
