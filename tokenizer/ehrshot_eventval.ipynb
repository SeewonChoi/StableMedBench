{
 "cells": [
  {
   "cell_type": "code",
   "execution_count": 1,
   "id": "77e04b92",
   "metadata": {},
   "outputs": [],
   "source": [
    "import pandas as pd\n",
    "import numpy as np\n",
    "import pickle"
   ]
  },
  {
   "cell_type": "code",
   "execution_count": null,
   "id": "f03c2f5f",
   "metadata": {},
   "outputs": [],
   "source": [
    "TASK = 'hyperkalemia'"
   ]
  },
  {
   "cell_type": "code",
   "execution_count": 2,
   "id": "278669ac",
   "metadata": {},
   "outputs": [],
   "source": [
    "TASK = 'hypoglycemia'"
   ]
  },
  {
   "cell_type": "code",
   "execution_count": 3,
   "id": "9e59d308",
   "metadata": {},
   "outputs": [],
   "source": [
    "demo_df = pd.read_parquet(f'data/lab_{TASK}/{TASK}_demo.parquet')\n",
    "label_df = pd.read_parquet(f'data/lab_{TASK}/{TASK}_label2.parquet')"
   ]
  },
  {
   "cell_type": "code",
   "execution_count": 4,
   "id": "78d8e539",
   "metadata": {},
   "outputs": [],
   "source": [
    "AGES = [0, 20, 30, 40, 50, 60, 70, 80, 90]\n",
    "AGE_LABELS = [f'Age/{AGES[i]}-{AGES[i+1]}' for i in range(0, len(AGES)-1)]\n",
    "def age_str(x):\n",
    "    ind = np.searchsorted(AGES, x, 'right')\n",
    "    return AGE_LABELS[ind-1]"
   ]
  },
  {
   "cell_type": "code",
   "execution_count": 5,
   "id": "8dfca481",
   "metadata": {},
   "outputs": [],
   "source": [
    "demo_df['race_str'] = 'Race/' + demo_df['race']\n",
    "demo_df['gender_str'] = 'Gender/' + demo_df['gender']\n",
    "demo_df['ethnicity_str'] = 'Ethnicity/' + demo_df['ethnicity']\n",
    "demo_df['age_str'] = demo_df['age'].apply(age_str)"
   ]
  },
  {
   "cell_type": "code",
   "execution_count": 6,
   "id": "c892101f",
   "metadata": {},
   "outputs": [],
   "source": [
    "demo_df.to_parquet(f'data/lab_{TASK}/{TASK}_demo.parquet')"
   ]
  },
  {
   "cell_type": "code",
   "execution_count": 7,
   "id": "4bbbddfc",
   "metadata": {},
   "outputs": [],
   "source": [
    "label_df['Time'] = label_df.apply(lambda x: x['prediction_time'] if x['value'] else x['Sample_time'], axis=1)"
   ]
  },
  {
   "cell_type": "code",
   "execution_count": 8,
   "id": "d5a4993e",
   "metadata": {},
   "outputs": [],
   "source": [
    "label_df.to_parquet(f'data/lab_{TASK}/{TASK}_label2.parquet')"
   ]
  },
  {
   "cell_type": "markdown",
   "id": "5871a76c",
   "metadata": {},
   "source": [
    "EVENTVAL"
   ]
  },
  {
   "cell_type": "code",
   "execution_count": 9,
   "id": "87781b9c",
   "metadata": {},
   "outputs": [],
   "source": [
    "IGNORE_VALS = ['NONE SEEN', 'See Note', 'See Below', 'See note', 'See scanned results', 'Not done', 'Comment:', 'Comment',\n",
    "                'SEE COMMENT', '(NOTE)', 'Detailed information on file in HIS.', 'SEE BELOW','SEE TEXT', 'SEE NOTE', 'SEE COMMENTS',\n",
    "                'Unable to interpret',  'See Comment', 'Note', 'note', 'tnp', 'not given', 'scanned:  shc/epic media manager', \n",
    "                'not applicable', 'indeterminate', 'random', 'equivocal', '-', 'final report']\n",
    "IGNORE_VALS = [v.lower() for v in IGNORE_VALS]"
   ]
  },
  {
   "cell_type": "code",
   "execution_count": 10,
   "id": "e4fa428b",
   "metadata": {},
   "outputs": [],
   "source": [
    "def convert_value(x):\n",
    "    x = x.lower()\n",
    "    if x == 'non reactive' or x == 'non-reactive' or x == 'nonreactive':\n",
    "        return 'non-reactive'\n",
    "    elif x == 'not detected' or x == 'none detected':\n",
    "        return 'not detected'\n",
    "    elif x == 'occ.':\n",
    "        return 'occasional'\n",
    "    elif x == 'dnr':\n",
    "        return 'normal'\n",
    "    elif x == 'intermed.':\n",
    "        return 'intermediate'\n",
    "    else:\n",
    "        return x"
   ]
  },
  {
   "cell_type": "code",
   "execution_count": 11,
   "id": "941b2bdd",
   "metadata": {},
   "outputs": [],
   "source": [
    "def try_parse_float(x):\n",
    "    if isinstance(x, str):\n",
    "        try:\n",
    "            return float(x)\n",
    "        except ValueError:\n",
    "            if 'pos' in x.lower() or '+' in x.lower(): return 1.0\n",
    "            elif 'neg' in x.lower(): return 0.0\n",
    "            else:\n",
    "                return x\n",
    "    return x"
   ]
  },
  {
   "cell_type": "code",
   "execution_count": 12,
   "id": "8d162aa1",
   "metadata": {},
   "outputs": [],
   "source": [
    "def str_bucket_ind(event, val, d):\n",
    "    bucket = d[event]\n",
    "    if type(bucket) == str: \n",
    "        return 0\n",
    "    ind = np.where(bucket == val)[0][0]\n",
    "    return ind"
   ]
  },
  {
   "cell_type": "code",
   "execution_count": 13,
   "id": "87cefe1a",
   "metadata": {},
   "outputs": [],
   "source": [
    "def bucket_eventval(event, val, d):\n",
    "    buckets = d[event]\n",
    "    if type(buckets) == str: \n",
    "        return buckets\n",
    "    ind = np.searchsorted(buckets, val, side='right')\n",
    "    if ind == len(buckets):\n",
    "        eventval = f\"{event}|{buckets[ind-1]}-\"\n",
    "    else:\n",
    "        eventval = f\"{event}|{buckets[ind-1]}-{buckets[ind]}\"\n",
    "    return eventval"
   ]
  },
  {
   "cell_type": "code",
   "execution_count": 14,
   "id": "56df5a80",
   "metadata": {},
   "outputs": [],
   "source": [
    "def bucket_ind(event, val, d):\n",
    "    buckets = d[event]\n",
    "    if type(buckets) == str: \n",
    "        return 0\n",
    "    ind = np.searchsorted(buckets, val, side='right')\n",
    "    return ind"
   ]
  },
  {
   "cell_type": "code",
   "execution_count": 15,
   "id": "2702d92a",
   "metadata": {},
   "outputs": [],
   "source": [
    "with open('next_token/buckets.pkl', 'rb') as file:\n",
    "    buckets = pickle.load(file)\n",
    "\n",
    "with open('next_token/str_buckets.pkl', 'rb') as file:\n",
    "    str_buckets = pickle.load(file)"
   ]
  },
  {
   "cell_type": "code",
   "execution_count": 16,
   "id": "e926da67",
   "metadata": {},
   "outputs": [],
   "source": [
    "df = pd.read_parquet(f'data/lab_{TASK}/{TASK}2.parquet', columns=['patient_id', 'start', 'code', 'value'])\n",
    "df['value'] = df['value'].apply(try_parse_float)"
   ]
  },
  {
   "cell_type": "code",
   "execution_count": 17,
   "id": "090405d4",
   "metadata": {},
   "outputs": [],
   "source": [
    "float_df = df[df['value'].apply(type) == float]\n",
    "str_df = df[(df['value'].apply(type) == str)]\n",
    "none_df = df[df['value'].isna()]"
   ]
  },
  {
   "cell_type": "code",
   "execution_count": 18,
   "id": "172cd8a5",
   "metadata": {},
   "outputs": [
    {
     "name": "stderr",
     "output_type": "stream",
     "text": [
      "/tmp/ipykernel_72487/3018597392.py:1: SettingWithCopyWarning: \n",
      "A value is trying to be set on a copy of a slice from a DataFrame.\n",
      "Try using .loc[row_indexer,col_indexer] = value instead\n",
      "\n",
      "See the caveats in the documentation: https://pandas.pydata.org/pandas-docs/stable/user_guide/indexing.html#returning-a-view-versus-a-copy\n",
      "  float_df['eventval'] = float_df.apply(lambda x: bucket_eventval(x['code'], x['value'], buckets), axis=1)\n",
      "/tmp/ipykernel_72487/3018597392.py:2: SettingWithCopyWarning: \n",
      "A value is trying to be set on a copy of a slice from a DataFrame.\n",
      "Try using .loc[row_indexer,col_indexer] = value instead\n",
      "\n",
      "See the caveats in the documentation: https://pandas.pydata.org/pandas-docs/stable/user_guide/indexing.html#returning-a-view-versus-a-copy\n",
      "  float_df['bucket'] = float_df.apply(lambda x: bucket_ind(x['code'], x['value'], buckets), axis=1)\n"
     ]
    }
   ],
   "source": [
    "float_df['eventval'] = float_df.apply(lambda x: bucket_eventval(x['code'], x['value'], buckets), axis=1)\n",
    "float_df['bucket'] = float_df.apply(lambda x: bucket_ind(x['code'], x['value'], buckets), axis=1)"
   ]
  },
  {
   "cell_type": "code",
   "execution_count": 19,
   "id": "825d335d",
   "metadata": {},
   "outputs": [],
   "source": [
    "none_code = none_df[none_df['code'].apply(lambda x: type(buckets[x]) == str)]\n",
    "none_df = none_df[~(none_df['code'].isin(none_code['code']))]\n",
    "none_df = none_df[none_df['code'].isin(str_buckets.keys())]\n",
    "none_str = none_df[none_df['code'].apply(lambda x: type(str_buckets[x]) == str)]\n",
    "\n",
    "none_df = pd.concat([none_code, none_str], ignore_index=True)\n",
    "none_df['eventval'] = none_df['code']\n",
    "none_df['bucket'] = 0"
   ]
  },
  {
   "cell_type": "code",
   "execution_count": 20,
   "id": "ae77e875",
   "metadata": {},
   "outputs": [],
   "source": [
    "str_df = str_df[~(str_df['value'].str.lower().isin(IGNORE_VALS))]\n",
    "str_df['value'] = str_df['value'].apply(convert_value)\n",
    "str_df['eventval'] = (str_df['code'] + '|' + str_df['value'])\n",
    "str_df['bucket'] = str_df.apply(lambda x: str_bucket_ind(x['code'], x['value'], str_buckets), axis=1)"
   ]
  },
  {
   "cell_type": "code",
   "execution_count": 21,
   "id": "0adc0347",
   "metadata": {},
   "outputs": [],
   "source": [
    "df = pd.concat([float_df, str_df, none_df], ignore_index=True)"
   ]
  },
  {
   "cell_type": "code",
   "execution_count": 22,
   "id": "b2189f34",
   "metadata": {},
   "outputs": [],
   "source": [
    "df['value'] = df['value'].astype(str)"
   ]
  },
  {
   "cell_type": "code",
   "execution_count": 23,
   "id": "05b5d172",
   "metadata": {},
   "outputs": [],
   "source": [
    "df.to_parquet(f'data/lab_{TASK}/{TASK}2.parquet')"
   ]
  }
 ],
 "metadata": {
  "kernelspec": {
   "display_name": "sepsis",
   "language": "python",
   "name": "python3"
  },
  "language_info": {
   "codemirror_mode": {
    "name": "ipython",
    "version": 3
   },
   "file_extension": ".py",
   "mimetype": "text/x-python",
   "name": "python",
   "nbconvert_exporter": "python",
   "pygments_lexer": "ipython3",
   "version": "3.10.16"
  }
 },
 "nbformat": 4,
 "nbformat_minor": 5
}
