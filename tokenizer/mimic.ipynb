{
 "cells": [
  {
   "cell_type": "code",
   "execution_count": 1,
   "id": "514a4f65",
   "metadata": {},
   "outputs": [],
   "source": [
    "import pandas as pd\n",
    "import numpy as np\n",
    "import pickle"
   ]
  },
  {
   "cell_type": "markdown",
   "id": "7b550bbe",
   "metadata": {},
   "source": [
    "ED BUCKETS"
   ]
  },
  {
   "cell_type": "code",
   "execution_count": 2,
   "id": "9e498357",
   "metadata": {},
   "outputs": [],
   "source": [
    "vital_df = pd.read_csv('data/mimiciv/3.1/ed/vitalsign.csv')\n",
    "triage_df = pd.read_csv('data/mimiciv/3.1/ed/triage.csv')\n",
    "med_df = pd.read_csv('data/mimiciv/3.1/ed/pyxis.csv')"
   ]
  },
  {
   "cell_type": "code",
   "execution_count": 3,
   "id": "eb80a873",
   "metadata": {},
   "outputs": [],
   "source": [
    "NUM_COLS = ['temperature', 'heartrate', 'resprate', 'o2sat', 'sbp', 'dbp', 'pain']"
   ]
  },
  {
   "cell_type": "code",
   "execution_count": 4,
   "id": "e79187e1",
   "metadata": {},
   "outputs": [],
   "source": [
    "num_df = pd.concat([vital_df[NUM_COLS], triage_df[NUM_COLS]])"
   ]
  },
  {
   "cell_type": "code",
   "execution_count": 5,
   "id": "7354940c",
   "metadata": {},
   "outputs": [],
   "source": [
    "scale = 10_000"
   ]
  },
  {
   "cell_type": "code",
   "execution_count": 6,
   "id": "cc5f71c5",
   "metadata": {},
   "outputs": [],
   "source": [
    "buckets = {}\n",
    "for c in num_df.columns:\n",
    "    df_c = pd.to_numeric(num_df[c], 'coerce').dropna()\n",
    "    bucket = np.percentile(df_c, np.arange(0, 110, 10), method='lower')\n",
    "    bucket = bucket[np.insert(np.diff(bucket) != 0, 0, True)]\n",
    "    bucket = np.array([\n",
    "            np.floor(bucket[0] * scale) / scale,             # floor first\n",
    "            *[round(b, ndigits=4) for b in bucket[1:-1]],         # round middle\n",
    "            np.ceil(bucket[-1] * scale) / scale              # ceil last\n",
    "            ])\n",
    "    buckets[c] = bucket[np.concatenate(([True], bucket[1:] != bucket[:-1]))]"
   ]
  },
  {
   "cell_type": "code",
   "execution_count": 7,
   "id": "90c36202",
   "metadata": {},
   "outputs": [],
   "source": [
    "buckets['acuity'] = [1, 2, 3, 4, 5]"
   ]
  },
  {
   "cell_type": "code",
   "execution_count": 9,
   "id": "2ff43760",
   "metadata": {},
   "outputs": [],
   "source": [
    "with open(f'ed_buckets.pkl', 'wb') as f:\n",
    "    pickle.dump(buckets, f)"
   ]
  },
  {
   "cell_type": "markdown",
   "id": "82db5bf6",
   "metadata": {},
   "source": [
    "ED: DATASET"
   ]
  },
  {
   "cell_type": "code",
   "execution_count": null,
   "id": "446e23ab",
   "metadata": {},
   "outputs": [],
   "source": [
    "AGES = [0, 20, 30, 40, 50, 60, 70, 80, 90, 100, 110]\n",
    "AGE_LABELS = [f'Age/{AGES[i]}-{AGES[i+1]}' for i in range(0, len(AGES)-1)]\n",
    "def age_str(x):\n",
    "    ind = np.searchsorted(AGES, x, 'right')\n",
    "    return AGE_LABELS[ind-1]"
   ]
  },
  {
   "cell_type": "code",
   "execution_count": null,
   "id": "ed113854",
   "metadata": {},
   "outputs": [],
   "source": [
    "def race_str(x):\n",
    "    if 'ASIAN' in x:\n",
    "        return 'RACE/ASIAN'\n",
    "    elif 'BLACK' in x:\n",
    "        return 'RACE/BLACK'\n",
    "    elif 'WHITE' in x:\n",
    "        return 'RACE/WHITE'\n",
    "    elif 'HISPANIC' in x:\n",
    "        return 'RACE/HISPANIC'\n",
    "    elif 'BLACK' in x:\n",
    "        return 'RACE/BLACK'\n",
    "    elif 'NATIVE' in x:\n",
    "        return 'RACE/AMERICAN'\n",
    "    elif x == 'PORTUGUESE': return 'RACE/PORTUGUESE'\n",
    "    elif x == 'SOUTH AMERICAN': return 'RACE/SOUTH'\n",
    "    else:\n",
    "        return 'RACE/UNKNOWN'"
   ]
  },
  {
   "cell_type": "code",
   "execution_count": null,
   "id": "4af16db8",
   "metadata": {},
   "outputs": [],
   "source": [
    "demo_df = pd.read_csv('data/transfer/demo.csv')\n",
    "demo_df = demo_df.drop(columns=['hadm_id', 'anchor_age', 'anchor_year', 'ethnicity'])"
   ]
  },
  {
   "cell_type": "code",
   "execution_count": null,
   "id": "992a0a47",
   "metadata": {},
   "outputs": [],
   "source": [
    "demo_df['race_str'] = demo_df['race'].apply(race_str)\n",
    "demo_df['gender_str'] = 'Gender/' + demo_df['gender']\n",
    "demo_df['age_str'] = demo_df['age'].apply(lambda x: age_str(x) if not np.isnan(x) else None)"
   ]
  },
  {
   "cell_type": "code",
   "execution_count": null,
   "id": "b5e84374",
   "metadata": {},
   "outputs": [],
   "source": [
    "demo_df.to_csv('data/transfer/demo.csv', index=False)"
   ]
  },
  {
   "cell_type": "code",
   "execution_count": null,
   "id": "c9331fdb",
   "metadata": {},
   "outputs": [],
   "source": [
    "df = pd.read_csv('data/transfer/med.csv', index_col=0)"
   ]
  },
  {
   "cell_type": "code",
   "execution_count": null,
   "id": "22aef270",
   "metadata": {},
   "outputs": [],
   "source": [
    "df = df[['subject_id', 'stay_id', 'charttime', 'group']]"
   ]
  },
  {
   "cell_type": "code",
   "execution_count": null,
   "id": "fee5c3dd",
   "metadata": {},
   "outputs": [],
   "source": [
    "df['eventval'] = 'MED/' + df['group'].astype(str)"
   ]
  },
  {
   "cell_type": "code",
   "execution_count": null,
   "id": "387e526b",
   "metadata": {},
   "outputs": [],
   "source": [
    "df.to_csv('data/transfer/med.csv', index=False)"
   ]
  },
  {
   "cell_type": "code",
   "execution_count": null,
   "id": "3bd75460",
   "metadata": {},
   "outputs": [],
   "source": [
    "def bucket_eventval(event, val, d):\n",
    "    buckets = d[event]\n",
    "    if type(buckets) == str: \n",
    "        return buckets\n",
    "    ind = np.searchsorted(buckets, val, side='right')\n",
    "    if ind == len(buckets):\n",
    "        eventval = f\"{event}|{buckets[ind-1]}-\"\n",
    "    else:\n",
    "        eventval = f\"{event}|{buckets[ind-1]}-{buckets[ind]}\"\n",
    "    return eventval"
   ]
  },
  {
   "cell_type": "code",
   "execution_count": null,
   "id": "68aad237",
   "metadata": {},
   "outputs": [],
   "source": [
    "def bucket_ind(event, val, d):\n",
    "    buckets = d[event]\n",
    "    if type(buckets) == str: \n",
    "        return 0\n",
    "    ind = np.searchsorted(buckets, val, side='right')\n",
    "    return ind"
   ]
  },
  {
   "cell_type": "code",
   "execution_count": null,
   "id": "cff0c648",
   "metadata": {},
   "outputs": [],
   "source": [
    "with open('data/buckets/ed_buckets.pkl', 'rb') as file:\n",
    "    ed_buckets = pickle.load(file)"
   ]
  },
  {
   "cell_type": "code",
   "execution_count": null,
   "id": "c12ff889",
   "metadata": {},
   "outputs": [],
   "source": [
    "df = pd.read_csv('data/transfer/numerics.csv')"
   ]
  },
  {
   "cell_type": "code",
   "execution_count": null,
   "id": "a1899aa6",
   "metadata": {},
   "outputs": [],
   "source": [
    "df_pivot = None\n",
    "for c in df.columns:\n",
    "    if c == 'stay_id' or c == 'charttime': continue\n",
    "    df_c = df[['stay_id', 'charttime'] + [c]]\n",
    "    df_c = df_c.rename(columns={c:'value'})\n",
    "    df_c['event'] = c\n",
    "    if df_pivot is None: df_pivot = df_c\n",
    "    else: df_pivot = pd.concat([df_pivot, df_c])"
   ]
  },
  {
   "cell_type": "code",
   "execution_count": null,
   "id": "bec44cef",
   "metadata": {},
   "outputs": [],
   "source": [
    "df_pivot = df_pivot.dropna(subset=['value'])"
   ]
  },
  {
   "cell_type": "code",
   "execution_count": null,
   "id": "a3bdc26e",
   "metadata": {},
   "outputs": [],
   "source": [
    "df_pivot['eventval'] = df_pivot.apply(lambda x: bucket_eventval(x['event'], x['value'], ed_buckets), axis=1)"
   ]
  },
  {
   "cell_type": "code",
   "execution_count": null,
   "id": "a7e6405b",
   "metadata": {},
   "outputs": [],
   "source": [
    "df_pivot.to_csv('data/transfer/numerics.csv', index=False)"
   ]
  },
  {
   "cell_type": "markdown",
   "id": "81789f1a",
   "metadata": {},
   "source": [
    "ED: LABEL"
   ]
  },
  {
   "cell_type": "code",
   "execution_count": null,
   "id": "4202b5f0",
   "metadata": {},
   "outputs": [],
   "source": [
    "df = pd.read_csv('data/transfer/label.csv', usecols=['subject_id', 'stay_id', 'intime', 'outcome_icu_transfer_12h', 'Time'])"
   ]
  },
  {
   "cell_type": "code",
   "execution_count": null,
   "id": "c827e15a",
   "metadata": {},
   "outputs": [],
   "source": [
    "df = df.rename(columns={'outcome_icu_transfer_12h': 'Label'})"
   ]
  },
  {
   "cell_type": "code",
   "execution_count": null,
   "id": "56f53362",
   "metadata": {},
   "outputs": [],
   "source": [
    "df.to_csv('data/transfer/label.csv', index=False)"
   ]
  },
  {
   "cell_type": "markdown",
   "id": "ddf9c51b",
   "metadata": {},
   "source": [
    "ICU"
   ]
  },
  {
   "cell_type": "code",
   "execution_count": null,
   "id": "18a610e3",
   "metadata": {},
   "outputs": [],
   "source": [
    "COLS = {\n",
    "    'chartevents': ('subject_id', 'hadm_id', 'stay_id', 'charttime', 'itemid', 'valuenum'),\n",
    "    'inputevents': ('subject_id', 'hadm_id', 'stay_id', 'starttime', 'itemid', 'amount'),\n",
    "    'outputevents': ('subject_id', 'hadm_id', 'stay_id', 'charttime', 'itemid', 'value'),\n",
    "    'procedureevents': ('subject_id', 'hadm_id', 'stay_id', 'starttime', 'itemid', 'value'),\n",
    "    'labevents': ('subject_id', 'hadm_id', 'charttime', 'itemid', 'valuenum'),\n",
    "}\n"
   ]
  },
  {
   "cell_type": "code",
   "execution_count": 18,
   "id": "b96b1f99",
   "metadata": {},
   "outputs": [],
   "source": [
    "FNAME = 'procedureevents'\n",
    "VAL_COL = 'value'\n",
    "scale = 10_000"
   ]
  },
  {
   "cell_type": "code",
   "execution_count": 19,
   "id": "2ca0db86",
   "metadata": {},
   "outputs": [
    {
     "name": "stdout",
     "output_type": "stream",
     "text": [
      "159\n"
     ]
    }
   ],
   "source": [
    "codes = []\n",
    "df_final = None\n",
    "for i in range(0, 7):\n",
    "    df = pd.read_parquet(f'data/raw_data/{FNAME}_{i}.parquet', columns=['itemid', VAL_COL])\n",
    "    codes += list(df['itemid'])\n",
    "    codes = list(set(codes))\n",
    "    if df_final is None: df_final = df\n",
    "    else: df_final = pd.concat([df_final, df])\n",
    "print(len(codes))"
   ]
  },
  {
   "cell_type": "code",
   "execution_count": 20,
   "id": "92454d69",
   "metadata": {},
   "outputs": [
    {
     "name": "stdout",
     "output_type": "stream",
     "text": [
      "0\n",
      "50\n",
      "100\n",
      "150\n"
     ]
    }
   ],
   "source": [
    "buckets = {}\n",
    "for i, c in enumerate(codes):\n",
    "    if i % 50 == 0:\n",
    "        print(i)\n",
    "    df_c = df_final[df_final['itemid']==c]\n",
    "    df_values = pd.to_numeric(df_c[VAL_COL], 'coerce').dropna()\n",
    "    if len(df_values) > 0:\n",
    "        bucket = np.percentile(df_values, np.arange(0, 110, 10), method='lower')\n",
    "        bucket = bucket[np.insert(np.diff(bucket) != 0, 0, True)]\n",
    "        bucket = np.array([\n",
    "                np.floor(bucket[0] * scale) / scale,             # floor first\n",
    "                *[round(b, ndigits=4) for b in bucket[1:-1]],         # round middle\n",
    "                np.ceil(bucket[-1] * scale) / scale              # ceil last\n",
    "                ])\n",
    "        buckets[c] = bucket[np.concatenate(([True], bucket[1:] != bucket[:-1]))]"
   ]
  },
  {
   "cell_type": "code",
   "execution_count": 21,
   "id": "0db57684",
   "metadata": {},
   "outputs": [],
   "source": [
    "with open(f'{FNAME}_buckets.pkl', 'wb') as f:\n",
    "    pickle.dump(buckets, f)"
   ]
  },
  {
   "cell_type": "markdown",
   "id": "6ae5643e",
   "metadata": {},
   "source": []
  },
  {
   "cell_type": "code",
   "execution_count": null,
   "id": "45501bc4",
   "metadata": {},
   "outputs": [],
   "source": [
    "with open('data/buckets/chartevents_buckets.pkl', 'rb') as file:\n",
    "    chart_buckets = pickle.load(file)\n",
    "\n",
    "with open('data/buckets/inputevents_buckets.pkl', 'rb') as file:\n",
    "    input_buckets = pickle.load(file)\n",
    "\n",
    "with open('data/buckets/labevents_buckets.pkl', 'rb') as file:\n",
    "    lab_buckets = pickle.load(file)\n",
    "\n",
    "with open('data/buckets/outputevents_buckets.pkl', 'rb') as file:\n",
    "    output_buckets = pickle.load(file)\n",
    "\n",
    "with open('data/buckets/procedureevents_buckets.pkl', 'rb') as file:\n",
    "    procedure_events = pickle.load(file)"
   ]
  },
  {
   "cell_type": "code",
   "execution_count": null,
   "id": "579e4ca9",
   "metadata": {},
   "outputs": [],
   "source": [
    "icu_buckets = {**chart_buckets, **input_buckets, **output_buckets, **procedure_events}\n",
    "hosp_buckets = {**lab_buckets}"
   ]
  },
  {
   "cell_type": "code",
   "execution_count": null,
   "id": "678b386b",
   "metadata": {},
   "outputs": [],
   "source": [
    "with open(f'icu_buckets.pkl', 'wb') as f:\n",
    "    pickle.dump(icu_buckets, f)\n",
    "\n",
    "with open(f'hosp_buckets.pkl', 'wb') as f:\n",
    "    pickle.dump(hosp_buckets, f)"
   ]
  },
  {
   "cell_type": "markdown",
   "id": "2381da7b",
   "metadata": {},
   "source": [
    "ICU: DATASET"
   ]
  },
  {
   "cell_type": "code",
   "execution_count": null,
   "id": "6a38c0c5",
   "metadata": {},
   "outputs": [],
   "source": [
    "def race_str(x):\n",
    "    if 'ASIAN' in x:\n",
    "        return 'RACE/ASIAN'\n",
    "    elif 'BLACK' in x:\n",
    "        return 'RACE/BLACK'\n",
    "    elif 'WHITE' in x:\n",
    "        return 'RACE/WHITE'\n",
    "    elif 'HISPANIC' in x:\n",
    "        return 'RACE/HISPANIC'\n",
    "    elif 'BLACK' in x:\n",
    "        return 'RACE/BLACK'\n",
    "    elif 'NATIVE' in x:\n",
    "        return 'RACE/AMERICAN'\n",
    "    elif x == 'PORTUGUESE': return 'RACE/PORTUGUESE'\n",
    "    elif x == 'SOUTH AMERICAN': return 'RACE/SOUTH'\n",
    "    elif x in ['unknown', 'MULTIPLE RACE/ETHNICITY']:\n",
    "        return 'RACE/UNKNOWN'"
   ]
  },
  {
   "cell_type": "code",
   "execution_count": null,
   "id": "f4597b31",
   "metadata": {},
   "outputs": [],
   "source": [
    "AGES = [0, 20, 30, 40, 50, 60, 70, 80, 90, 100]\n",
    "AGE_LABELS = [f'Age/{AGES[i]}-{AGES[i+1]}' for i in range(0, len(AGES)-1)]\n",
    "def age_str(x):\n",
    "    ind = np.searchsorted(AGES, x, 'right')\n",
    "    return AGE_LABELS[ind-1]"
   ]
  },
  {
   "cell_type": "code",
   "execution_count": null,
   "id": "45680fa2",
   "metadata": {},
   "outputs": [],
   "source": [
    "demo_df = pd.read_parquet('data/mortality/demographics.parquet')"
   ]
  },
  {
   "cell_type": "code",
   "execution_count": null,
   "id": "f9630b07",
   "metadata": {},
   "outputs": [],
   "source": [
    "demo_df['ethnicity'] = demo_df['ethnicity'].fillna(0)\n",
    "demo_df['ethnicity_str'] = demo_df['ethnicity'].apply(lambda x: f'Ethnicity/{x}')"
   ]
  },
  {
   "cell_type": "code",
   "execution_count": null,
   "id": "3f5e48dc",
   "metadata": {},
   "outputs": [],
   "source": [
    "demo_df['gender_str'] = 'Gender/' + demo_df['gender']\n",
    "demo_df['race_str'] = demo_df['race'].apply(race_str).astype(str)"
   ]
  },
  {
   "cell_type": "code",
   "execution_count": null,
   "id": "a791f0a8",
   "metadata": {},
   "outputs": [],
   "source": [
    "demo_df['age_str'] = demo_df['age'].apply(lambda x: age_str(x) if not np.isnan(x) else None)\n",
    "demo_df['age_str'] = demo_df['age_str'].fillna('Age')"
   ]
  },
  {
   "cell_type": "code",
   "execution_count": null,
   "id": "866e3637",
   "metadata": {},
   "outputs": [],
   "source": [
    "demo_df.to_parquet('data/mortality/demographics.parquet')"
   ]
  },
  {
   "cell_type": "code",
   "execution_count": null,
   "id": "161ca1b5",
   "metadata": {},
   "outputs": [],
   "source": [
    "def bucket_eventval(event, val, d):\n",
    "    event = int(event)\n",
    "    if event in d.keys():\n",
    "        buckets = d[event]\n",
    "        if type(buckets) == str: \n",
    "            return buckets\n",
    "        ind = np.searchsorted(buckets, val, side='right')\n",
    "        if ind == len(buckets):\n",
    "            eventval = f\"{event}|{buckets[ind-1]}-\"\n",
    "        else:\n",
    "            eventval = f\"{event}|{buckets[ind-1]}-{buckets[ind]}\"\n",
    "        return eventval\n",
    "    else:\n",
    "        print(event)\n",
    "        return f'{event}'"
   ]
  },
  {
   "cell_type": "code",
   "execution_count": null,
   "id": "53a65fa1",
   "metadata": {},
   "outputs": [],
   "source": [
    "def bucket_ind(event, val, d):\n",
    "    buckets = d[event]\n",
    "    if type(buckets) == str: \n",
    "        return 0\n",
    "    ind = np.searchsorted(buckets, val, side='right')\n",
    "    return ind"
   ]
  },
  {
   "cell_type": "code",
   "execution_count": null,
   "id": "190a443c",
   "metadata": {},
   "outputs": [],
   "source": [
    "with open('data/buckets/hosp_buckets.pkl', 'rb') as file:\n",
    "    hosp_buckets = pickle.load(file)\n",
    "\n",
    "with open('data/buckets/icu_buckets.pkl', 'rb') as file:\n",
    "    icu_buckets = pickle.load(file)"
   ]
  },
  {
   "cell_type": "code",
   "execution_count": null,
   "id": "bc6df541",
   "metadata": {},
   "outputs": [],
   "source": [
    "for i in range(0, 37):\n",
    "    print(i)\n",
    "    df = pd.read_parquet(f'data/mortality/{i}_final.parquet')\n",
    "    if not 'hadm_id' in df.columns: \n",
    "        continue\n",
    "    df = df.drop(columns=['hadm_id'])\n",
    "    df = df.dropna(subset=['value'])\n",
    "\n",
    "    stay_df = df[~df['stay_id'].isna()]\n",
    "    hosp_df = df[df['stay_id'].isna()]\n",
    "\n",
    "    stay_df['eventval'] = stay_df.apply(lambda x: bucket_eventval(x['itemid'], x['value'], icu_buckets), axis=1)\n",
    "    hosp_df['eventval'] = hosp_df.apply(lambda x: bucket_eventval(x['itemid'], x['value'], hosp_buckets), axis=1)\n",
    "    df = pd.concat([stay_df, hosp_df])\n",
    "\n",
    "    df.to_parquet(f'data/mortality/{i}_final.parquet')"
   ]
  },
  {
   "cell_type": "markdown",
   "id": "42698291",
   "metadata": {},
   "source": [
    "LABEL"
   ]
  },
  {
   "cell_type": "code",
   "execution_count": null,
   "id": "d5dccb18",
   "metadata": {},
   "outputs": [],
   "source": [
    "df = pd.read_csv('data/mortality/mortality_labels.csv', usecols=['subject_id', 'stay_id', 'y_true', 'intime', 'outtime', 'deathtime'])"
   ]
  },
  {
   "cell_type": "code",
   "execution_count": null,
   "id": "4ba9a7ca",
   "metadata": {},
   "outputs": [],
   "source": [
    "df = df.rename(columns={'y_true': 'Label'})\n",
    "df['Time'] = df.apply(lambda x: x['deathtime'] if x['Label'] else x['outtime'], axis=1)\n",
    "df = df.drop(columns=['deathtime', 'outtime'])"
   ]
  },
  {
   "cell_type": "code",
   "execution_count": null,
   "id": "8a8ded52",
   "metadata": {},
   "outputs": [],
   "source": [
    "df.to_csv('data/mortality/mortality_labels.csv', index=False)"
   ]
  }
 ],
 "metadata": {
  "kernelspec": {
   "display_name": "TA",
   "language": "python",
   "name": "python3"
  },
  "language_info": {
   "codemirror_mode": {
    "name": "ipython",
    "version": 3
   },
   "file_extension": ".py",
   "mimetype": "text/x-python",
   "name": "python",
   "nbconvert_exporter": "python",
   "pygments_lexer": "ipython3",
   "version": "3.10.11"
  }
 },
 "nbformat": 4,
 "nbformat_minor": 5
}
