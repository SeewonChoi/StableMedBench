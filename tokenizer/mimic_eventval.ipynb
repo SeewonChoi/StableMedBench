{
 "cells": [
  {
   "cell_type": "code",
   "execution_count": 1,
   "id": "514a4f65",
   "metadata": {},
   "outputs": [],
   "source": [
    "import pandas as pd\n",
    "import numpy as np\n",
    "import pickle"
   ]
  },
  {
   "cell_type": "markdown",
   "id": "7b550bbe",
   "metadata": {},
   "source": [
    "ED BUCKETS"
   ]
  },
  {
   "cell_type": "code",
   "execution_count": 2,
   "id": "9e498357",
   "metadata": {},
   "outputs": [],
   "source": [
    "vital_df = pd.read_csv('data/mimiciv/3.1/ed/vitalsign.csv')\n",
    "triage_df = pd.read_csv('data/mimiciv/3.1/ed/triage.csv')\n",
    "med_df = pd.read_csv('data/mimiciv/3.1/ed/pyxis.csv')"
   ]
  },
  {
   "cell_type": "code",
   "execution_count": 3,
   "id": "eb80a873",
   "metadata": {},
   "outputs": [],
   "source": [
    "NUM_COLS = ['temperature', 'heartrate', 'resprate', 'o2sat', 'sbp', 'dbp', 'pain']"
   ]
  },
  {
   "cell_type": "code",
   "execution_count": 4,
   "id": "e79187e1",
   "metadata": {},
   "outputs": [],
   "source": [
    "num_df = pd.concat([vital_df[NUM_COLS], triage_df[NUM_COLS]])"
   ]
  },
  {
   "cell_type": "code",
   "execution_count": 5,
   "id": "7354940c",
   "metadata": {},
   "outputs": [],
   "source": [
    "scale = 10_000"
   ]
  },
  {
   "cell_type": "code",
   "execution_count": 6,
   "id": "cc5f71c5",
   "metadata": {},
   "outputs": [],
   "source": [
    "buckets = {}\n",
    "for c in num_df.columns:\n",
    "    df_c = pd.to_numeric(num_df[c], 'coerce').dropna()\n",
    "    bucket = np.percentile(df_c, np.arange(0, 110, 10), method='lower')\n",
    "    bucket = bucket[np.insert(np.diff(bucket) != 0, 0, True)]\n",
    "    bucket = np.array([\n",
    "            np.floor(bucket[0] * scale) / scale,             # floor first\n",
    "            *[round(b, ndigits=4) for b in bucket[1:-1]],         # round middle\n",
    "            np.ceil(bucket[-1] * scale) / scale              # ceil last\n",
    "            ])\n",
    "    buckets[c] = bucket[np.concatenate(([True], bucket[1:] != bucket[:-1]))]"
   ]
  },
  {
   "cell_type": "code",
   "execution_count": 7,
   "id": "90c36202",
   "metadata": {},
   "outputs": [],
   "source": [
    "buckets['acuity'] = [1, 2, 3, 4, 5]"
   ]
  },
  {
   "cell_type": "code",
   "execution_count": 9,
   "id": "2ff43760",
   "metadata": {},
   "outputs": [],
   "source": [
    "with open(f'ed_buckets.pkl', 'wb') as f:\n",
    "    pickle.dump(buckets, f)"
   ]
  },
  {
   "cell_type": "markdown",
   "id": "ddf9c51b",
   "metadata": {},
   "source": [
    "ICU"
   ]
  },
  {
   "cell_type": "code",
   "execution_count": null,
   "id": "18a610e3",
   "metadata": {},
   "outputs": [],
   "source": [
    "COLS = {\n",
    "    'chartevents': ('subject_id', 'hadm_id', 'stay_id', 'charttime', 'itemid', 'valuenum'),\n",
    "    'inputevents': ('subject_id', 'hadm_id', 'stay_id', 'starttime', 'itemid', 'amount'),\n",
    "    'outputevents': ('subject_id', 'hadm_id', 'stay_id', 'charttime', 'itemid', 'value'),\n",
    "    'procedureevents': ('subject_id', 'hadm_id', 'stay_id', 'starttime', 'itemid', 'value'),\n",
    "    'labevents': ('subject_id', 'hadm_id', 'charttime', 'itemid', 'valuenum'),\n",
    "}\n"
   ]
  },
  {
   "cell_type": "code",
   "execution_count": 18,
   "id": "b96b1f99",
   "metadata": {},
   "outputs": [],
   "source": [
    "FNAME = 'procedureevents'\n",
    "VAL_COL = 'value'\n",
    "scale = 10_000"
   ]
  },
  {
   "cell_type": "code",
   "execution_count": 19,
   "id": "2ca0db86",
   "metadata": {},
   "outputs": [
    {
     "name": "stdout",
     "output_type": "stream",
     "text": [
      "159\n"
     ]
    }
   ],
   "source": [
    "codes = []\n",
    "df_final = None\n",
    "for i in range(0, 7):\n",
    "    df = pd.read_parquet(f'data/raw_data/{FNAME}_{i}.parquet', columns=['itemid', VAL_COL])\n",
    "    codes += list(df['itemid'])\n",
    "    codes = list(set(codes))\n",
    "    if df_final is None: df_final = df\n",
    "    else: df_final = pd.concat([df_final, df])\n",
    "print(len(codes))"
   ]
  },
  {
   "cell_type": "code",
   "execution_count": 20,
   "id": "92454d69",
   "metadata": {},
   "outputs": [
    {
     "name": "stdout",
     "output_type": "stream",
     "text": [
      "0\n",
      "50\n",
      "100\n",
      "150\n"
     ]
    }
   ],
   "source": [
    "buckets = {}\n",
    "for i, c in enumerate(codes):\n",
    "    if i % 50 == 0:\n",
    "        print(i)\n",
    "    df_c = df_final[df_final['itemid']==c]\n",
    "    df_values = pd.to_numeric(df_c[VAL_COL], 'coerce').dropna()\n",
    "    if len(df_values) > 0:\n",
    "        bucket = np.percentile(df_values, np.arange(0, 110, 10), method='lower')\n",
    "        bucket = bucket[np.insert(np.diff(bucket) != 0, 0, True)]\n",
    "        bucket = np.array([\n",
    "                np.floor(bucket[0] * scale) / scale,             # floor first\n",
    "                *[round(b, ndigits=4) for b in bucket[1:-1]],         # round middle\n",
    "                np.ceil(bucket[-1] * scale) / scale              # ceil last\n",
    "                ])\n",
    "        buckets[c] = bucket[np.concatenate(([True], bucket[1:] != bucket[:-1]))]"
   ]
  },
  {
   "cell_type": "code",
   "execution_count": 21,
   "id": "0db57684",
   "metadata": {},
   "outputs": [],
   "source": [
    "with open(f'{FNAME}_buckets.pkl', 'wb') as f:\n",
    "    pickle.dump(buckets, f)"
   ]
  }
 ],
 "metadata": {
  "kernelspec": {
   "display_name": "TA",
   "language": "python",
   "name": "python3"
  },
  "language_info": {
   "codemirror_mode": {
    "name": "ipython",
    "version": 3
   },
   "file_extension": ".py",
   "mimetype": "text/x-python",
   "name": "python",
   "nbconvert_exporter": "python",
   "pygments_lexer": "ipython3",
   "version": "3.10.11"
  }
 },
 "nbformat": 4,
 "nbformat_minor": 5
}
