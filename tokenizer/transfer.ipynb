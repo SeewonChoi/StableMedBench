{
 "cells": [
  {
   "cell_type": "code",
   "execution_count": 1,
   "id": "b2471d28",
   "metadata": {},
   "outputs": [],
   "source": [
    "import pandas as pd\n",
    "import numpy as np\n",
    "import pickle"
   ]
  },
  {
   "cell_type": "markdown",
   "id": "b3fcfdbf",
   "metadata": {},
   "source": [
    "ED: DEMOGRAPHICS"
   ]
  },
  {
   "cell_type": "code",
   "execution_count": null,
   "id": "06f2c717",
   "metadata": {},
   "outputs": [],
   "source": [
    "AGES = [0, 20, 30, 40, 50, 60, 70, 80, 90, 100, 110]\n",
    "AGE_LABELS = [f'Age/{AGES[i]}-{AGES[i+1]}' for i in range(0, len(AGES)-1)]\n",
    "def age_str(x):\n",
    "    ind = np.searchsorted(AGES, x, 'right')\n",
    "    return AGE_LABELS[ind-1]"
   ]
  },
  {
   "cell_type": "code",
   "execution_count": null,
   "id": "2efb6aed",
   "metadata": {},
   "outputs": [],
   "source": [
    "def race_str(x):\n",
    "    if 'ASIAN' in x:\n",
    "        return 'RACE/ASIAN'\n",
    "    elif 'BLACK' in x:\n",
    "        return 'RACE/BLACK'\n",
    "    elif 'WHITE' in x:\n",
    "        return 'RACE/WHITE'\n",
    "    elif 'HISPANIC' in x:\n",
    "        return 'RACE/HISPANIC'\n",
    "    elif 'BLACK' in x:\n",
    "        return 'RACE/BLACK'\n",
    "    elif 'NATIVE' in x:\n",
    "        return 'RACE/AMERICAN'\n",
    "    elif x == 'PORTUGUESE': return 'RACE/PORTUGUESE'\n",
    "    elif x == 'SOUTH AMERICAN': return 'RACE/SOUTH'\n",
    "    else:\n",
    "        return 'RACE/UNKNOWN'"
   ]
  },
  {
   "cell_type": "code",
   "execution_count": 2,
   "id": "e0c36ca9",
   "metadata": {},
   "outputs": [],
   "source": [
    "demo_df = pd.read_csv('data/transfer/demo.csv')"
   ]
  },
  {
   "cell_type": "code",
   "execution_count": 33,
   "id": "b723914d",
   "metadata": {},
   "outputs": [],
   "source": [
    "demo_df = demo_df.drop(columns=['hadm_id', 'anchor_age', 'anchor_year', 'ethnicity'])"
   ]
  },
  {
   "cell_type": "code",
   "execution_count": null,
   "id": "8dfc553d",
   "metadata": {},
   "outputs": [],
   "source": [
    "demo_df['race_str'] = demo_df['race'].apply(race_str)\n",
    "demo_df['gender_str'] = 'Gender/' + demo_df['gender']\n",
    "demo_df['age_str'] = demo_df['age'].apply(lambda x: age_str(x) if not np.isnan(x) else None)"
   ]
  },
  {
   "cell_type": "code",
   "execution_count": 6,
   "id": "6a7dc638",
   "metadata": {},
   "outputs": [],
   "source": [
    "demo_df.to_csv('data/transfer/demo.csv', index=False)"
   ]
  },
  {
   "cell_type": "markdown",
   "id": "f6224c61",
   "metadata": {},
   "source": [
    "LABEL"
   ]
  },
  {
   "cell_type": "code",
   "execution_count": 3,
   "id": "3a2bb39c",
   "metadata": {},
   "outputs": [],
   "source": [
    "df = pd.read_csv('data/transfer/label.csv', usecols=['subject_id', 'stay_id', 'intime', 'outcome_icu_transfer_12h', 'Time'])"
   ]
  },
  {
   "cell_type": "code",
   "execution_count": 5,
   "id": "41d66d82",
   "metadata": {},
   "outputs": [],
   "source": [
    "df = df.rename(columns={'outcome_icu_transfer_12h': 'Label'})"
   ]
  },
  {
   "cell_type": "code",
   "execution_count": 7,
   "id": "e6307d94",
   "metadata": {},
   "outputs": [],
   "source": [
    "df.to_csv('data/transfer/label.csv', index=False)"
   ]
  },
  {
   "cell_type": "markdown",
   "id": "d114b022",
   "metadata": {},
   "source": [
    "MED"
   ]
  },
  {
   "cell_type": "code",
   "execution_count": 16,
   "id": "e58288b0",
   "metadata": {},
   "outputs": [],
   "source": [
    "df = pd.read_csv('data/transfer/med.csv', index_col=0)"
   ]
  },
  {
   "cell_type": "code",
   "execution_count": 17,
   "id": "913462bc",
   "metadata": {},
   "outputs": [],
   "source": [
    "df = df[['subject_id', 'stay_id', 'charttime', 'group']]"
   ]
  },
  {
   "cell_type": "code",
   "execution_count": 20,
   "id": "ca81d943",
   "metadata": {},
   "outputs": [],
   "source": [
    "df['eventval'] = 'MED/' + df['group'].astype(str)"
   ]
  },
  {
   "cell_type": "code",
   "execution_count": 22,
   "id": "3b9a8483",
   "metadata": {},
   "outputs": [],
   "source": [
    "df.to_csv('data/transfer/med.csv', index=False)"
   ]
  },
  {
   "cell_type": "markdown",
   "id": "c9733eae",
   "metadata": {},
   "source": [
    "VITALS"
   ]
  },
  {
   "cell_type": "code",
   "execution_count": null,
   "id": "3442cc46",
   "metadata": {},
   "outputs": [],
   "source": [
    "def bucket_eventval(event, val, d):\n",
    "    buckets = d[event]\n",
    "    if type(buckets) == str: \n",
    "        return buckets\n",
    "    ind = np.searchsorted(buckets, val, side='right')\n",
    "    if ind == len(buckets):\n",
    "        eventval = f\"{event}|{buckets[ind-1]}-\"\n",
    "    else:\n",
    "        eventval = f\"{event}|{buckets[ind-1]}-{buckets[ind]}\"\n",
    "    return eventval"
   ]
  },
  {
   "cell_type": "code",
   "execution_count": null,
   "id": "8e87bc56",
   "metadata": {},
   "outputs": [],
   "source": [
    "def bucket_ind(event, val, d):\n",
    "    buckets = d[event]\n",
    "    if type(buckets) == str: \n",
    "        return 0\n",
    "    ind = np.searchsorted(buckets, val, side='right')\n",
    "    return ind"
   ]
  },
  {
   "cell_type": "code",
   "execution_count": 2,
   "id": "7cea0f79",
   "metadata": {},
   "outputs": [],
   "source": [
    "df = pd.read_csv('data/transfer/numerics.csv')"
   ]
  },
  {
   "cell_type": "code",
   "execution_count": 3,
   "id": "2b71fb39",
   "metadata": {},
   "outputs": [],
   "source": [
    "df_pivot = None\n",
    "for c in df.columns:\n",
    "    if c == 'stay_id' or c == 'charttime': continue\n",
    "    df_c = df[['stay_id', 'charttime'] + [c]]\n",
    "    df_c = df_c.rename(columns={c:'value'})\n",
    "    df_c['event'] = c\n",
    "    if df_pivot is None: df_pivot = df_c\n",
    "    else: df_pivot = pd.concat([df_pivot, df_c])"
   ]
  },
  {
   "cell_type": "code",
   "execution_count": 4,
   "id": "c95529aa",
   "metadata": {},
   "outputs": [],
   "source": [
    "df_pivot = df_pivot.dropna(subset=['value'])"
   ]
  },
  {
   "cell_type": "code",
   "execution_count": null,
   "id": "32f48d7e",
   "metadata": {},
   "outputs": [],
   "source": [
    "with open('data/buckets/ed_buckets.pkl', 'rb') as file:\n",
    "    ed_buckets = pickle.load(file)"
   ]
  },
  {
   "cell_type": "code",
   "execution_count": 8,
   "id": "124625f6",
   "metadata": {},
   "outputs": [],
   "source": [
    "df_pivot['eventval'] = df_pivot.apply(lambda x: bucket_eventval(x['event'], x['value'], ed_buckets), axis=1)"
   ]
  },
  {
   "cell_type": "code",
   "execution_count": 10,
   "id": "f88661ae",
   "metadata": {},
   "outputs": [],
   "source": [
    "df_pivot.to_csv('data/transfer/numerics.csv', index=False)"
   ]
  }
 ],
 "metadata": {
  "kernelspec": {
   "display_name": "sepsis",
   "language": "python",
   "name": "python3"
  },
  "language_info": {
   "codemirror_mode": {
    "name": "ipython",
    "version": 3
   },
   "file_extension": ".py",
   "mimetype": "text/x-python",
   "name": "python",
   "nbconvert_exporter": "python",
   "pygments_lexer": "ipython3",
   "version": "3.10.16"
  }
 },
 "nbformat": 4,
 "nbformat_minor": 5
}
