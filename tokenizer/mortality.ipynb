{
 "cells": [
  {
   "cell_type": "code",
   "execution_count": 1,
   "id": "b2471d28",
   "metadata": {},
   "outputs": [],
   "source": [
    "import pandas as pd\n",
    "import numpy as np\n",
    "import pickle"
   ]
  },
  {
   "cell_type": "markdown",
   "id": "b3fcfdbf",
   "metadata": {},
   "source": [
    "DEMOGRAPHICS"
   ]
  },
  {
   "cell_type": "code",
   "execution_count": 2,
   "id": "d53488e5",
   "metadata": {},
   "outputs": [],
   "source": [
    "def race_str(x):\n",
    "    if 'ASIAN' in x:\n",
    "        return 'RACE/ASIAN'\n",
    "    elif 'BLACK' in x:\n",
    "        return 'RACE/BLACK'\n",
    "    elif 'WHITE' in x:\n",
    "        return 'RACE/WHITE'\n",
    "    elif 'HISPANIC' in x:\n",
    "        return 'RACE/HISPANIC'\n",
    "    elif 'BLACK' in x:\n",
    "        return 'RACE/BLACK'\n",
    "    elif 'NATIVE' in x:\n",
    "        return 'RACE/AMERICAN'\n",
    "    elif x == 'PORTUGUESE': return 'RACE/PORTUGUESE'\n",
    "    elif x == 'SOUTH AMERICAN': return 'RACE/SOUTH'\n",
    "    elif x in ['unknown', 'MULTIPLE RACE/ETHNICITY']:\n",
    "        return 'RACE/UNKNOWN'"
   ]
  },
  {
   "cell_type": "code",
   "execution_count": 3,
   "id": "b63b4cfa",
   "metadata": {},
   "outputs": [],
   "source": [
    "AGES = [0, 20, 30, 40, 50, 60, 70, 80, 90, 100]\n",
    "AGE_LABELS = [f'Age/{AGES[i]}-{AGES[i+1]}' for i in range(0, len(AGES)-1)]\n",
    "def age_str(x):\n",
    "    ind = np.searchsorted(AGES, x, 'right')\n",
    "    return AGE_LABELS[ind-1]"
   ]
  },
  {
   "cell_type": "code",
   "execution_count": 5,
   "id": "e0c36ca9",
   "metadata": {},
   "outputs": [],
   "source": [
    "demo_df = pd.read_parquet('data/mortality/demographics.parquet')"
   ]
  },
  {
   "cell_type": "code",
   "execution_count": 6,
   "id": "633bd554",
   "metadata": {},
   "outputs": [],
   "source": [
    "demo_df['ethnicity'] = demo_df['ethnicity'].fillna(0)\n",
    "demo_df['ethnicity_str'] = demo_df['ethnicity'].apply(lambda x: f'Ethnicity/{x}')"
   ]
  },
  {
   "cell_type": "code",
   "execution_count": 7,
   "id": "15135df4",
   "metadata": {},
   "outputs": [],
   "source": [
    "demo_df['gender_str'] = 'Gender/' + demo_df['gender']\n",
    "demo_df['race_str'] = demo_df['race'].apply(race_str).astype(str)"
   ]
  },
  {
   "cell_type": "code",
   "execution_count": 8,
   "id": "7897db31",
   "metadata": {},
   "outputs": [],
   "source": [
    "demo_df['age_str'] = demo_df['age'].apply(lambda x: age_str(x) if not np.isnan(x) else None)\n",
    "demo_df['age_str'] = demo_df['age_str'].fillna('Age')"
   ]
  },
  {
   "cell_type": "code",
   "execution_count": 14,
   "id": "6a7dc638",
   "metadata": {},
   "outputs": [],
   "source": [
    "demo_df.to_parquet('data/mortality/demographics.parquet')"
   ]
  },
  {
   "cell_type": "markdown",
   "id": "f6224c61",
   "metadata": {},
   "source": [
    "LABEL"
   ]
  },
  {
   "cell_type": "code",
   "execution_count": 6,
   "id": "3a2bb39c",
   "metadata": {},
   "outputs": [],
   "source": [
    "df = pd.read_csv('data/mortality/mortality_labels.csv', usecols=['subject_id', 'stay_id', 'y_true', 'intime', 'outtime', 'deathtime'])"
   ]
  },
  {
   "cell_type": "code",
   "execution_count": null,
   "id": "a289baec",
   "metadata": {},
   "outputs": [],
   "source": [
    "df = df.rename(columns={'y_true': 'Label'})\n",
    "df['Time'] = df.apply(lambda x: x['deathtime'] if x['Label'] else x['outtime'], axis=1)\n",
    "df = df.drop(columns=['deathtime', 'outtime'])"
   ]
  },
  {
   "cell_type": "code",
   "execution_count": 17,
   "id": "e6307d94",
   "metadata": {},
   "outputs": [],
   "source": [
    "df.to_csv('data/mortality/mortality_labels.csv', index=False)"
   ]
  },
  {
   "cell_type": "markdown",
   "id": "c9733eae",
   "metadata": {},
   "source": [
    "VITALS"
   ]
  },
  {
   "cell_type": "code",
   "execution_count": null,
   "id": "a74f3195",
   "metadata": {},
   "outputs": [],
   "source": [
    "with open('data/buckets/chartevents_buckets.pkl', 'rb') as file:\n",
    "    chart_buckets = pickle.load(file)\n",
    "\n",
    "with open('data/buckets/inputevents_buckets.pkl', 'rb') as file:\n",
    "    input_buckets = pickle.load(file)\n",
    "\n",
    "with open('data/buckets/labevents_buckets.pkl', 'rb') as file:\n",
    "    lab_buckets = pickle.load(file)\n",
    "\n",
    "with open('data/buckets/outputevents_buckets.pkl', 'rb') as file:\n",
    "    output_buckets = pickle.load(file)\n",
    "\n",
    "with open('data/buckets/procedureevents_buckets.pkl', 'rb') as file:\n",
    "    procedure_events = pickle.load(file)"
   ]
  },
  {
   "cell_type": "code",
   "execution_count": 12,
   "id": "7564cc0b",
   "metadata": {},
   "outputs": [],
   "source": [
    "icu_buckets = {**chart_buckets, **input_buckets, **output_buckets, **procedure_events}\n",
    "hosp_buckets = {**lab_buckets}"
   ]
  },
  {
   "cell_type": "code",
   "execution_count": 14,
   "id": "20c99d6a",
   "metadata": {},
   "outputs": [],
   "source": [
    "with open(f'icu_buckets.pkl', 'wb') as f:\n",
    "    pickle.dump(icu_buckets, f)\n",
    "\n",
    "with open(f'hosp_buckets.pkl', 'wb') as f:\n",
    "    pickle.dump(hosp_buckets, f)"
   ]
  },
  {
   "cell_type": "markdown",
   "id": "d737e582",
   "metadata": {},
   "source": [
    "EVENTVAL"
   ]
  },
  {
   "cell_type": "code",
   "execution_count": 2,
   "id": "3442cc46",
   "metadata": {},
   "outputs": [],
   "source": [
    "def bucket_eventval(event, val, d):\n",
    "    event = int(event)\n",
    "    if event in d.keys():\n",
    "        buckets = d[event]\n",
    "        if type(buckets) == str: \n",
    "            return buckets\n",
    "        ind = np.searchsorted(buckets, val, side='right')\n",
    "        if ind == len(buckets):\n",
    "            eventval = f\"{event}|{buckets[ind-1]}-\"\n",
    "        else:\n",
    "            eventval = f\"{event}|{buckets[ind-1]}-{buckets[ind]}\"\n",
    "        return eventval\n",
    "    else:\n",
    "        print(event)\n",
    "        return f'{event}'"
   ]
  },
  {
   "cell_type": "code",
   "execution_count": null,
   "id": "8e87bc56",
   "metadata": {},
   "outputs": [],
   "source": [
    "def bucket_ind(event, val, d):\n",
    "    buckets = d[event]\n",
    "    if type(buckets) == str: \n",
    "        return 0\n",
    "    ind = np.searchsorted(buckets, val, side='right')\n",
    "    return ind"
   ]
  },
  {
   "cell_type": "code",
   "execution_count": 3,
   "id": "c3206b6a",
   "metadata": {},
   "outputs": [],
   "source": [
    "with open('data/buckets/hosp_buckets.pkl', 'rb') as file:\n",
    "    hosp_buckets = pickle.load(file)\n",
    "\n",
    "with open('data/buckets/icu_buckets.pkl', 'rb') as file:\n",
    "    icu_buckets = pickle.load(file)"
   ]
  },
  {
   "cell_type": "code",
   "execution_count": null,
   "id": "7cea0f79",
   "metadata": {},
   "outputs": [],
   "source": [
    "for i in range(0, 37):\n",
    "    print(i)\n",
    "    df = pd.read_parquet(f'data/mortality/{i}_final.parquet')\n",
    "    if not 'hadm_id' in df.columns: \n",
    "        continue\n",
    "    df = df.drop(columns=['hadm_id'])\n",
    "    df = df.dropna(subset=['value'])\n",
    "\n",
    "    stay_df = df[~df['stay_id'].isna()]\n",
    "    hosp_df = df[df['stay_id'].isna()]\n",
    "\n",
    "    stay_df['eventval'] = stay_df.apply(lambda x: bucket_eventval(x['itemid'], x['value'], icu_buckets), axis=1)\n",
    "    hosp_df['eventval'] = hosp_df.apply(lambda x: bucket_eventval(x['itemid'], x['value'], hosp_buckets), axis=1)\n",
    "    df = pd.concat([stay_df, hosp_df])\n",
    "\n",
    "    df.to_parquet(f'data/mortality/{i}_final.parquet')"
   ]
  }
 ],
 "metadata": {
  "kernelspec": {
   "display_name": "sepsis",
   "language": "python",
   "name": "python3"
  },
  "language_info": {
   "codemirror_mode": {
    "name": "ipython",
    "version": 3
   },
   "file_extension": ".py",
   "mimetype": "text/x-python",
   "name": "python",
   "nbconvert_exporter": "python",
   "pygments_lexer": "ipython3",
   "version": "3.10.16"
  }
 },
 "nbformat": 4,
 "nbformat_minor": 5
}
